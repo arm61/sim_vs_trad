{
 "cells": [
  {
   "cell_type": "code",
   "execution_count": 1,
   "metadata": {},
   "outputs": [],
   "source": [
    "import MDAnalysis as mda\n",
    "import numpy as np\n",
    "from MDAnalysis.analysis.rdf import InterRDF"
   ]
  },
  {
   "cell_type": "code",
   "execution_count": 2,
   "metadata": {},
   "outputs": [],
   "source": [
    "u = mda.Universe('../../data/simulation/slipids/surf_pres_30/frame1.pdb')"
   ]
  },
  {
   "cell_type": "code",
   "execution_count": 65,
   "metadata": {},
   "outputs": [
    {
     "name": "stdout",
     "output_type": "stream",
     "text": [
      "1 start\n"
     ]
    }
   ],
   "source": [
    "interest = {'N': np.array([]), 'P': np.array([]), \n",
    "            'C2': np.array([]), 'C21': np.array([]), \n",
    "            'C31': np.array([]), 'C29': np.array([]), \n",
    "            'C39': np.array([]), \n",
    "            '8C21': np.array([]), \n",
    "            '8C31': np.array([])}\n",
    "for dsf in range(1, 2):\n",
    "    u = mda.Universe('../../data/simulation/slipids/surf_pres_30/frame{}.pdb'.format(dsf))\n",
    "    print(dsf, 'start')\n",
    "    for k, ts in enumerate(u.trajectory):\n",
    "        for i in u.atoms:\n",
    "            if i.name in interest.keys():\n",
    "                interest[i.name] = np.append(interest[i.name], i.position[2])"
   ]
  },
  {
   "cell_type": "code",
   "execution_count": 66,
   "metadata": {
    "scrolled": false
   },
   "outputs": [
    {
     "data": {
      "image/png": "[encoded data removed]",
      "text/plain": [
       "<Figure size 720x225 with 1 Axes>"
      ]
     },
     "metadata": {
      "needs_background": "light"
     },
     "output_type": "display_data"
    }
   ],
   "source": [
    "import matplotlib.pyplot as plt\n",
    "fig = plt.figure(figsize=(10, 25/8))\n",
    "\n",
    "for k, i in enumerate(interest.keys()):\n",
    "    weights = np.ones_like(interest[i])/float(len(interest[i]))\n",
    "    plt.hist(interest[i], bins=100, weights=weights, label=i, zorder=k)\n",
    "plt.legend()\n",
    "plt.xlim([50, 100])\n",
    "plt.show()"
   ]
  },
  {
   "cell_type": "code",
   "execution_count": 71,
   "metadata": {},
   "outputs": [
    {
     "name": "stdout",
     "output_type": "stream",
     "text": [
      "N not normal\n",
      "N 66.0785026550293 5.313683166503907 11.97362609863282\n",
      "P not normal\n",
      "P 67.08250045776367 4.400039939880372 12.286039962768555\n",
      "C2 not normal\n",
      "C2 70.15449905395508 4.347269973754891 11.773272476196297\n",
      "C21 not normal\n",
      "C21 71.36700057983398 4.467903060913088 11.597770385742194\n",
      "C31 not normal\n",
      "C31 72.51300048828125 4.6540306854248 11.546311950683588\n",
      "C29 not normal\n",
      "C29 79.97050094604492 4.222449874877924 8.139219818115237\n",
      "C39 not normal\n",
      "C39 81.90299987792969 4.556079711914066 7.8077188110351585\n",
      "8C21 not normal\n",
      "8C21 90.22749710083008 6.547266921997078 3.0806814575195176\n",
      "8C31 not normal\n",
      "8C31 91.99500274658203 4.809802169799809 1.4735892486572197\n"
     ]
    }
   ],
   "source": [
    "from scipy.stats.mstats import mquantiles\n",
    "from scipy.stats import shapiro\n",
    "\n",
    "alpha = 0.05\n",
    "\n",
    "for k, i in enumerate(interest.keys()):\n",
    "    file_open = open('../../output/simulation/slipids_position_{}.txt'.format(i), 'w')\n",
    "    stat, p = shapiro(interest[i])\n",
    "    if p > alpha:\n",
    "        print(i, 'normal')\n",
    "    else:\n",
    "        print(i, 'not normal')\n",
    "    m =  mquantiles(interest[i], prob=[0.05, 0.5, 0.95])\n",
    "    file_open.write('{:.1f}'.format(m[2]-m[1]))"
   ]
  },
  {
   "cell_type": "code",
   "execution_count": null,
   "metadata": {},
   "outputs": [],
   "source": []
  }
 ],
 "metadata": {
  "kernelspec": {
   "display_name": "Python 3",
   "language": "python",
   "name": "python3"
  },
  "language_info": {
   "codemirror_mode": {
    "name": "ipython",
    "version": 3
   },
   "file_extension": ".py",
   "mimetype": "text/x-python",
   "name": "python",
   "nbconvert_exporter": "python",
   "pygments_lexer": "ipython3",
   "version": "3.6.7"
  }
 },
 "nbformat": 4,
 "nbformat_minor": 2
}
