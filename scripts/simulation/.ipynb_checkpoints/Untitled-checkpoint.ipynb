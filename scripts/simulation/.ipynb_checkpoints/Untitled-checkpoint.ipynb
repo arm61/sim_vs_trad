{
 "cells": [
  {
   "cell_type": "code",
   "execution_count": 1,
   "metadata": {},
   "outputs": [],
   "source": [
    "import MDAnalysis as mda\n",
    "import numpy as np\n",
    "import matplotlib.pyplot as plt\n",
    "import seaborn as sns\n",
    "sns.set(palette=\"colorblind\")\n",
    "import matplotlib as mpl"
   ]
  },
  {
   "cell_type": "code",
   "execution_count": 2,
   "metadata": {},
   "outputs": [],
   "source": [
    "mpl.rcParams[\"xtick.labelsize\"] = 8\n",
    "mpl.rcParams[\"ytick.labelsize\"] = 8\n",
    "mpl.rcParams[\"axes.facecolor\"] = \"w\"\n",
    "mpl.rcParams[\"lines.linewidth\"] = 2\n",
    "mpl.rcParams[\"xtick.top\"] = False\n",
    "mpl.rcParams[\"xtick.bottom\"] = True\n",
    "mpl.rcParams[\"ytick.left\"] = True\n",
    "mpl.rcParams[\"grid.linestyle\"] = \"--\"\n",
    "mpl.rcParams[\"legend.fontsize\"] = 8\n",
    "mpl.rcParams[\"legend.facecolor\"] = [1, 1, 1]\n",
    "mpl.rcParams[\"legend.framealpha\"] = 0.75\n",
    "mpl.rcParams[\"axes.labelsize\"] = 8\n",
    "mpl.rcParams[\"axes.linewidth\"] = 1\n",
    "mpl.rcParams[\"axes.edgecolor\"] = \"k\"\n",
    "mpl.rcParams[\"axes.titlesize\"] = 8"
   ]
  },
  {
   "cell_type": "code",
   "execution_count": 144,
   "metadata": {},
   "outputs": [
    {
     "data": {
      "text/plain": [
       "40.38"
      ]
     },
     "execution_count": 144,
     "metadata": {},
     "output_type": "execute_result"
    }
   ],
   "source": [
    "data = np.loadtxt('../../output/simulation/waters_slipids_30.txt')\n",
    "def get_value(file):\n",
    "    f = open(file, \"r\")\n",
    "    for line in f:\n",
    "        k = line\n",
    "    if \"^\" in k:\n",
    "        l = k.split(\"$\")[1].split(\"^\")[0]\n",
    "    else:\n",
    "        l = k.split(\"$\")[1].split(\"\\\\pm\")[0]\n",
    "    return float(l)\n",
    "\n",
    "dh = get_value('../../output/traditional/dspc_30-d_h_30.tex')\n",
    "phih = get_value('../../output/traditional/dspc_30-phih_30.tex')"
   ]
  },
  {
   "cell_type": "code",
   "execution_count": 4,
   "metadata": {},
   "outputs": [],
   "source": [
    "from scipy.optimize import curve_fit"
   ]
  },
  {
   "cell_type": "code",
   "execution_count": 146,
   "metadata": {},
   "outputs": [],
   "source": [
    "def rough(x, a):\n",
    "    l1 = np.array([a, 0, 0, 3.])\n",
    "    l2 = np.array([dh, 0.03283*phih/100, 0, 3.])\n",
    "    l3 = np.array([0, 0.03283, 0, 3.])\n",
    "    layers = np.array([l1, l2, l3])\n",
    "    from scipy.stats import norm\n",
    "\n",
    "    # work out the step in SLD at an interface\n",
    "    delta_rho = layers[1:, 1] - layers[:-1, 1]\n",
    "    sld = np.ones_like(x, dtype=float) * layers[0, 1]\n",
    "    # the roughness of each step\n",
    "    sigma = np.clip(layers[1:, 3], 1e-3, None)\n",
    "    zed = np.asfarray(x)\n",
    "    dist = np.cumsum(layers[:-1, 0])\n",
    "    # accumulate the SLD of each step.\n",
    "    for i in range(np.size(layers, 0) - 2 + 1):\n",
    "        sld += delta_rho[i] * norm.cdf(zed, scale=sigma[i], loc=dist[i])\n",
    "    return sld"
   ]
  },
  {
   "cell_type": "code",
   "execution_count": 148,
   "metadata": {},
   "outputs": [],
   "source": [
    "dd, ss = curve_fit(rough, data[0], data[1], bounds=((-25), (15)))"
   ]
  },
  {
   "cell_type": "code",
   "execution_count": 149,
   "metadata": {},
   "outputs": [
    {
     "data": {
      "text/plain": [
       "array([-5.69784221])"
      ]
     },
     "execution_count": 149,
     "metadata": {},
     "output_type": "execute_result"
    }
   ],
   "source": [
    "dd"
   ]
  },
  {
   "cell_type": "code",
   "execution_count": 151,
   "metadata": {},
   "outputs": [
    {
     "data": {
      "text/plain": [
       "(0, 0.04)"
      ]
     },
     "execution_count": 151,
     "metadata": {},
     "output_type": "execute_result"
    },
    {
     "data": {
      "image/png": "[encoded data removed]",
      "text/plain": [
       "<Figure size 360x225 with 1 Axes>"
      ]
     },
     "metadata": {
      "needs_background": "light"
     },
     "output_type": "display_data"
    }
   ],
   "source": [
    "fig = plt.figure(figsize=(5, 25/8))\n",
    "plt.errorbar(data[0], data[1], yerr=data[2], marker='o')\n",
    "plt.plot(data[0], rough(data[0], dd[0]))\n",
    "plt.xlim([-20, 20])\n",
    "plt.xlabel('$z$/Å')\n",
    "plt.ylabel('Intrinsic density of water/Å$^{-3}$')\n",
    "plt.ylim([0, 0.04])\n",
    "plt.savefig('../../reports/figures/water.pdf')"
   ]
  },
  {
   "cell_type": "code",
   "execution_count": null,
   "metadata": {},
   "outputs": [],
   "source": []
  }
 ],
 "metadata": {
  "kernelspec": {
   "display_name": "Python 3",
   "language": "python",
   "name": "python3"
  },
  "language_info": {
   "codemirror_mode": {
    "name": "ipython",
    "version": 3
   },
   "file_extension": ".py",
   "mimetype": "text/x-python",
   "name": "python",
   "nbconvert_exporter": "python",
   "pygments_lexer": "ipython3",
   "version": "3.6.7"
  }
 },
 "nbformat": 4,
 "nbformat_minor": 2
}
