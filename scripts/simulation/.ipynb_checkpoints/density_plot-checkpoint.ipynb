{
 "cells": [
  {
   "cell_type": "code",
   "execution_count": null,
   "metadata": {},
   "outputs": [],
   "source": [
    "import matplotlib.pyplot as plt\n",
    "import matplotlib as mpl\n",
    "mpl.rcParams['xtick.labelsize'] = 8\n",
    "mpl.rcParams['ytick.labelsize'] = 8\n",
    "mpl.rcParams['axes.facecolor'] = 'w'\n",
    "mpl.rcParams['lines.linewidth'] = 3\n",
    "mpl.rcParams['xtick.top'] = False\n",
    "mpl.rcParams['xtick.bottom'] = True\n",
    "mpl.rcParams['ytick.left'] = True\n",
    "mpl.rcParams['grid.linestyle'] = '--'\n",
    "mpl.rcParams['legend.fontsize'] = 8\n",
    "mpl.rcParams['legend.facecolor'] = [1,1,1]\n",
    "mpl.rcParams['legend.framealpha'] = 0.75\n",
    "mpl.rcParams['axes.labelsize'] = 8\n",
    "mpl.rcParams['axes.linewidth'] = 1\n",
    "mpl.rcParams['axes.edgecolor'] = 'k'\n",
    "import numpy as np"
   ]
  },
  {
   "cell_type": "code",
   "execution_count": null,
   "metadata": {},
   "outputs": [],
   "source": [
    "ik = []\n",
    "wbb = []\n",
    "hbb = []\n",
    "tbb = []\n",
    "for i in range(1, 11):\n",
    "    data = np.loadtxt('../../output/simulation/slipids_nb{}.txt'.format(i), unpack=True)\n",
    "    data = data[:, :71]\n",
    "    for j in range(0, data.shape[0], 4):\n",
    "        ik.append(data[j])\n",
    "        wbb.append(data[j+1])\n",
    "        hbb.append(data[j+2])\n",
    "        tbb.append(data[j+3])"
   ]
  },
  {
   "cell_type": "code",
   "execution_count": null,
   "metadata": {},
   "outputs": [],
   "source": [
    "ikc = np.asarray(ik)\n",
    "wbc = np.asarray(wbb)\n",
    "hbc = np.asarray(hbb)\n",
    "tbc = np.asarray(tbb)"
   ]
  },
  {
   "cell_type": "code",
   "execution_count": null,
   "metadata": {},
   "outputs": [],
   "source": [
    "print(ikc.shape)"
   ]
  },
  {
   "cell_type": "code",
   "execution_count": null,
   "metadata": {},
   "outputs": [],
   "source": [
    "ikd = ikc.mean(axis=0)\n",
    "wbc = np.asarray(wbb)\n",
    "hbc = np.asarray(hbb)\n",
    "tbc = np.asarray(tbb)\n",
    "wph  = wbc / hbc"
   ]
  },
  {
   "cell_type": "code",
   "execution_count": null,
   "metadata": {},
   "outputs": [],
   "source": [
    "wph.shape"
   ]
  },
  {
   "cell_type": "code",
   "execution_count": null,
   "metadata": {},
   "outputs": [],
   "source": [
    "dh_tot = np.array([])\n",
    "wph_tot = np.array([])\n",
    "total_head = np.sum(hbc, axis=1)\n",
    "\n",
    "dh = np.zeros(wbc.shape[0])\n",
    "e = np.zeros(wbc.shape[0])\n",
    "s = np.zeros(wbc.shape[0])\n",
    "\n",
    "bin_width = 1\n",
    "\n",
    "for j in range(0, wbc.shape[0]):\n",
    "    summing = 0\n",
    "    start = 0\n",
    "    end = 0\n",
    "    for i in range(0, wbc.shape[1]):\n",
    "        if summing > total_head[j] * 0.025:\n",
    "            start = i * bin_width\n",
    "            break\n",
    "        else:\n",
    "            summing += hbc[j, i]\n",
    "\n",
    "    summing = 0\n",
    "    for i in range(0, wbc.shape[1]):\n",
    "        if summing > total_head[j] * 0.975:\n",
    "            end = i * bin_width\n",
    "            break\n",
    "        else:\n",
    "            summing += hbc[j, i]\n",
    "\n",
    "    dh[j] = end-start\n",
    "    e[j] = end\n",
    "    s[j] = start\n",
    "#print(e, s)\n",
    "en = int(np.round(e.mean()))\n",
    "st = int(np.round(s.mean()))"
   ]
  },
  {
   "cell_type": "code",
   "execution_count": null,
   "metadata": {},
   "outputs": [],
   "source": [
    "wph[np.where(hbc == 0)] = 0"
   ]
  },
  {
   "cell_type": "code",
   "execution_count": null,
   "metadata": {},
   "outputs": [],
   "source": [
    "plt.figure(figsize=(5, 25/6))\n",
    "fig, ax = plt.subplots()\n",
    "ax1 = ax.twinx()\n",
    "for i in range(wph.shape[0]):\n",
    "    ax.plot(ikd, wph[i], c='#0173B2', alpha=0.01, marker='.', ls='')\n",
    "av_wph = wph.mean(axis=0)\n",
    "ax.plot(ikd[np.where(av_wph != 0)], np.trim_zeros(av_wph), c='#0173B2', marker='', ls='-')\n",
    "ax1.set_ylim([0, 3.6])\n",
    "for i in range(wph.shape[0]):\n",
    "    ax1.plot(ikd, wbc[i] * 100, c='#DE8F05', alpha=0.005)\n",
    "    ax.plot(ikd, hbc[i] *10000, c='#029E73', alpha=0.005)\n",
    "    ax.plot(ikd, tbc[i] *10000, c='#D55E00', alpha=0.005)\n",
    "#j = hb * 10000\n",
    "#ax.fill_between(np.arange(st, en), 0, j[st+60:en+60], facecolor='#CC78BC', alpha=0.5)\n",
    "ax.set_ylim([0, 25])\n",
    "ax.set_xlim([-20, 70])\n",
    "ax.set_xlabel(r'$z$/Å')\n",
    "ax.set_ylabel(r'Number Density Lipid/$\\times 10 ^{-4}$Å$^{-3}$'\n",
    "              '\\n'\n",
    "              r'wph')\n",
    "ax1.set_ylabel(r'Number Density Water/$5\\times 10 ^{-2}$Å$^{-3}$')\n",
    "plt.savefig('../../reports/figures/number_density.pdf')"
   ]
  },
  {
   "cell_type": "code",
   "execution_count": null,
   "metadata": {},
   "outputs": [],
   "source": []
  }
 ],
 "metadata": {
  "kernelspec": {
   "display_name": "Python [conda env:sim_vs_trad]",
   "language": "python",
   "name": "conda-env-sim_vs_trad-py"
  },
  "language_info": {
   "codemirror_mode": {
    "name": "ipython",
    "version": 3
   },
   "file_extension": ".py",
   "mimetype": "text/x-python",
   "name": "python",
   "nbconvert_exporter": "python",
   "pygments_lexer": "ipython3",
   "version": "3.7.1"
  },
  "latex_envs": {
   "LaTeX_envs_menu_present": true,
   "autoclose": false,
   "autocomplete": true,
   "bibliofile": "biblio.bib",
   "cite_by": "apalike",
   "current_citInitial": 1,
   "eqLabelWithNumbers": true,
   "eqNumInitial": 1,
   "hotkeys": {
    "equation": "Ctrl-E",
    "itemize": "Ctrl-I"
   },
   "labels_anchors": false,
   "latex_user_defs": false,
   "report_style_numbering": false,
   "user_envs_cfg": false
  }
 },
 "nbformat": 4,
 "nbformat_minor": 2
}
