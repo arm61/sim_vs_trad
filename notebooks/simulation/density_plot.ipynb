{
 "cells": [
  {
   "cell_type": "code",
   "execution_count": 1,
   "metadata": {},
   "outputs": [],
   "source": [
    "import matplotlib.pyplot as plt\n",
    "import matplotlib as mpl\n",
    "mpl.rcParams['xtick.labelsize'] = 8\n",
    "mpl.rcParams['ytick.labelsize'] = 8\n",
    "mpl.rcParams['axes.facecolor'] = 'w'\n",
    "mpl.rcParams['lines.linewidth'] = 3\n",
    "mpl.rcParams['xtick.top'] = False\n",
    "mpl.rcParams['xtick.bottom'] = True\n",
    "mpl.rcParams['ytick.left'] = True\n",
    "mpl.rcParams['grid.linestyle'] = '--'\n",
    "mpl.rcParams['legend.fontsize'] = 8\n",
    "mpl.rcParams['legend.facecolor'] = [1,1,1]\n",
    "mpl.rcParams['legend.framealpha'] = 0.75\n",
    "mpl.rcParams['axes.labelsize'] = 8\n",
    "mpl.rcParams['axes.linewidth'] = 1\n",
    "mpl.rcParams['axes.edgecolor'] = 'k'\n",
    "import numpy as np"
   ]
  },
  {
   "cell_type": "code",
   "execution_count": 2,
   "metadata": {},
   "outputs": [],
   "source": [
    "ik = []\n",
    "wbb = []\n",
    "hbb = []\n",
    "tbb = []\n",
    "for i in range(1, 11):\n",
    "    data = np.loadtxt('../../output/simulation/slipids_nb{}.txt'.format(i), unpack=True)\n",
    "    data = data[:, :71]\n",
    "    for j in range(0, data.shape[0], 4):\n",
    "        ik.append(data[j])\n",
    "        wbb.append(data[j+1])\n",
    "        hbb.append(data[j+2])\n",
    "        tbb.append(data[j+3])"
   ]
  },
  {
   "cell_type": "code",
   "execution_count": 3,
   "metadata": {},
   "outputs": [],
   "source": [
    "ikc = np.asarray(ik)\n",
    "wbc = np.asarray(wbb)\n",
    "hbc = np.asarray(hbb)\n",
    "tbc = np.asarray(tbb)"
   ]
  },
  {
   "cell_type": "code",
   "execution_count": 4,
   "metadata": {},
   "outputs": [
    {
     "name": "stdout",
     "output_type": "stream",
     "text": [
      "(501, 71)\n"
     ]
    }
   ],
   "source": [
    "print(ikc.shape)"
   ]
  },
  {
   "cell_type": "code",
   "execution_count": 5,
   "metadata": {},
   "outputs": [
    {
     "name": "stderr",
     "output_type": "stream",
     "text": [
      "/home/arm61/miniconda3/envs/sim_vs_trad/lib/python3.7/site-packages/ipykernel/__main__.py:5: RuntimeWarning: divide by zero encountered in true_divide\n",
      "/home/arm61/miniconda3/envs/sim_vs_trad/lib/python3.7/site-packages/ipykernel/__main__.py:5: RuntimeWarning: invalid value encountered in true_divide\n"
     ]
    }
   ],
   "source": [
    "ikd = ikc.mean(axis=0)\n",
    "wbc = np.asarray(wbb)\n",
    "hbc = np.asarray(hbb)\n",
    "tbc = np.asarray(tbb)\n",
    "wph  = wbc / hbc"
   ]
  },
  {
   "cell_type": "code",
   "execution_count": 6,
   "metadata": {},
   "outputs": [
    {
     "data": {
      "text/plain": [
       "(501, 71)"
      ]
     },
     "execution_count": 6,
     "metadata": {},
     "output_type": "execute_result"
    }
   ],
   "source": [
    "wph.shape"
   ]
  },
  {
   "cell_type": "code",
   "execution_count": 27,
   "metadata": {},
   "outputs": [
    {
     "name": "stdout",
     "output_type": "stream",
     "text": [
      "[36. 36. 36. 36. 36. 35. 36. 36. 36. 36. 36. 36. 36. 36. 36. 36. 36. 36.\n",
      " 36. 36. 36. 36. 36. 36. 36. 37. 36. 37. 36. 36. 36. 36. 36. 36. 36. 36.\n",
      " 35. 36. 36. 36. 36. 36. 35. 36. 36. 36. 36. 36. 36. 35. 36. 35. 36. 36.\n",
      " 36. 35. 35. 35. 36. 35. 36. 35. 35. 35. 35. 35. 35. 35. 35. 35. 35. 35.\n",
      " 35. 35. 35. 35. 35. 35. 35. 35. 35. 35. 35. 35. 35. 35. 35. 35. 35. 35.\n",
      " 35. 35. 35. 36. 35. 35. 35. 35. 35. 35. 35. 35. 35. 35. 35. 35. 36. 35.\n",
      " 35. 36. 36. 35. 36. 35. 35. 35. 35. 35. 35. 35. 35. 35. 35. 35. 35. 35.\n",
      " 35. 35. 35. 35. 35. 35. 35. 35. 35. 35. 35. 35. 35. 35. 35. 35. 35. 35.\n",
      " 35. 35. 35. 35. 35. 35. 35. 35. 35. 35. 35. 35. 35. 35. 35. 35. 35. 35.\n",
      " 35. 35. 35. 35. 35. 35. 35. 35. 35. 35. 35. 35. 35. 35. 35. 35. 35. 35.\n",
      " 35. 35. 35. 35. 35. 35. 35. 35. 35. 35. 35. 35. 35. 35. 34. 35. 35. 35.\n",
      " 35. 35. 35. 35. 35. 35. 35. 35. 35. 35. 34. 34. 35. 35. 35. 35. 34. 35.\n",
      " 34. 34. 35. 35. 35. 35. 35. 34. 34. 35. 35. 35. 35. 35. 35. 35. 35. 35.\n",
      " 35. 35. 35. 35. 35. 34. 35. 35. 35. 35. 34. 34. 35. 35. 35. 35. 35. 35.\n",
      " 35. 35. 34. 35. 34. 35. 34. 34. 34. 34. 34. 34. 34. 34. 35. 35. 34. 34.\n",
      " 35. 34. 35. 35. 35. 34. 34. 35. 35. 34. 35. 35. 35. 35. 35. 34. 34. 35.\n",
      " 34. 35. 35. 35. 35. 35. 35. 35. 35. 34. 35. 35. 35. 35. 35. 35. 35. 35.\n",
      " 35. 35. 35. 35. 35. 35. 35. 35. 35. 34. 34. 34. 34. 35. 35. 35. 35. 34.\n",
      " 35. 34. 35. 34. 35. 34. 34. 34. 34. 35. 35. 35. 35. 35. 35. 35. 35. 35.\n",
      " 35. 35. 35. 35. 35. 35. 35. 34. 34. 35. 35. 35. 34. 34. 34. 35. 35. 34.\n",
      " 34. 35. 35. 35. 35. 35. 35. 35. 35. 35. 35. 35. 35. 35. 35. 35. 35. 35.\n",
      " 35. 35. 35. 34. 35. 35. 35. 35. 35. 35. 35. 35. 35. 34. 35. 35. 35. 35.\n",
      " 35. 35. 34. 35. 35. 35. 35. 35. 34. 35. 35. 35. 35. 35. 35. 34. 35. 35.\n",
      " 35. 34. 35. 34. 35. 35. 35. 35. 35. 35. 35. 35. 35. 34. 34. 35. 35. 35.\n",
      " 35. 35. 35. 35. 35. 35. 35. 35. 35. 35. 35. 34. 35. 35. 34. 35. 35. 35.\n",
      " 34. 34. 35. 35. 34. 34. 34. 35. 34. 34. 34. 34. 34. 34. 34. 35. 34. 34.\n",
      " 34. 35. 34. 34. 34. 35. 34. 34. 34. 34. 34. 34. 34. 34. 34. 34. 34. 34.\n",
      " 34. 34. 34. 34. 34. 34. 34. 34. 35. 35. 34. 34. 34. 35. 35.] [17. 17. 17. 17. 17. 17. 17. 17. 17. 17. 17. 17. 17. 17. 17. 17. 17. 17.\n",
      " 17. 17. 17. 17. 18. 17. 17. 17. 17. 17. 17. 17. 17. 17. 17. 18. 17. 17.\n",
      " 17. 18. 18. 18. 18. 17. 18. 18. 18. 19. 19. 19. 19. 18. 19. 19. 19. 19.\n",
      " 19. 18. 19. 19. 18. 18. 18. 19. 19. 19. 19. 18. 19. 18. 18. 19. 19. 19.\n",
      " 19. 19. 19. 19. 19. 19. 19. 19. 19. 19. 19. 19. 19. 19. 19. 19. 19. 19.\n",
      " 19. 19. 19. 19. 19. 19. 19. 20. 20. 19. 19. 19. 19. 20. 19. 20. 20. 19.\n",
      " 20. 19. 20. 19. 19. 20. 20. 20. 20. 19. 19. 19. 20. 20. 20. 20. 20. 20.\n",
      " 20. 20. 20. 21. 20. 20. 20. 20. 20. 20. 20. 20. 20. 20. 20. 20. 20. 20.\n",
      " 20. 20. 20. 20. 20. 19. 20. 20. 19. 19. 20. 19. 19. 20. 20. 20. 20. 20.\n",
      " 19. 20. 20. 20. 19. 19. 19. 19. 19. 19. 19. 19. 19. 19. 19. 19. 20. 20.\n",
      " 20. 19. 19. 20. 21. 20. 21. 20. 20. 20. 20. 20. 20. 20. 20. 20. 20. 20.\n",
      " 20. 20. 20. 19. 19. 19. 20. 19. 19. 19. 20. 19. 19. 19. 20. 20. 19. 20.\n",
      " 19. 19. 20. 20. 20. 20. 20. 20. 20. 20. 20. 21. 20. 20. 20. 20. 20. 20.\n",
      " 20. 20. 20. 19. 20. 20. 20. 20. 20. 20. 20. 20. 20. 20. 20. 20. 20. 20.\n",
      " 20. 20. 20. 19. 20. 20. 20. 20. 20. 20. 20. 20. 20. 20. 20. 20. 20. 20.\n",
      " 20. 20. 20. 20. 20. 20. 19. 20. 20. 19. 20. 20. 19. 20. 20. 20. 20. 20.\n",
      " 19. 19. 19. 20. 19. 20. 20. 20. 19. 20. 20. 20. 19. 19. 20. 20. 20. 20.\n",
      " 19. 19. 20. 19. 19. 19. 19. 19. 20. 20. 20. 20. 20. 20. 20. 20. 20. 20.\n",
      " 20. 20. 21. 20. 20. 20. 20. 20. 20. 20. 19. 19. 20. 20. 20. 20. 20. 20.\n",
      " 20. 20. 21. 20. 20. 20. 21. 20. 20. 20. 20. 21. 21. 20. 20. 20. 21. 21.\n",
      " 20. 21. 21. 21. 21. 20. 20. 20. 20. 20. 20. 20. 21. 20. 20. 20. 20. 20.\n",
      " 20. 20. 20. 20. 20. 20. 21. 20. 20. 20. 20. 20. 20. 20. 20. 20. 20. 20.\n",
      " 20. 20. 20. 21. 20. 20. 20. 20. 20. 20. 20. 21. 20. 20. 20. 20. 20. 20.\n",
      " 20. 20. 20. 20. 20. 20. 20. 20. 20. 20. 20. 20. 20. 20. 20. 20. 20. 19.\n",
      " 20. 19. 19. 20. 20. 20. 19. 20. 20. 19. 20. 20. 20. 20. 20. 20. 20. 20.\n",
      " 20. 20. 20. 20. 20. 20. 20. 20. 20. 20. 20. 20. 20. 20. 20. 20. 20. 20.\n",
      " 20. 21. 20. 20. 20. 20. 20. 21. 21. 20. 20. 20. 21. 20. 20. 21. 20. 20.\n",
      " 19. 20. 20. 20. 20. 20. 20. 19. 19. 19. 20. 20. 20. 19. 20.]\n",
      "501\n"
     ]
    }
   ],
   "source": [
    "dh_tot = np.array([])\n",
    "wph_tot = np.array([])\n",
    "total_head = np.sum(hbc, axis=1)\n",
    "\n",
    "dh = np.zeros(wbc.shape[0])\n",
    "e = np.zeros(wbc.shape[0])\n",
    "s = np.zeros(wbc.shape[0])\n",
    "\n",
    "bin_width = 1\n",
    "\n",
    "for j in range(0, wbc.shape[0]):\n",
    "    summing = 0\n",
    "    start = 0\n",
    "    end = 0\n",
    "    for i in range(0, wbc.shape[1]):\n",
    "        if summing > total_head[j] * 0.05:\n",
    "            start = i * bin_width\n",
    "            break\n",
    "        else:\n",
    "            summing += hbc[j, i]\n",
    "\n",
    "    summing = 0\n",
    "    for i in range(0, wbc.shape[1]):\n",
    "        if summing > total_head[j] * 0.95:\n",
    "            end = i * bin_width\n",
    "            break\n",
    "        else:\n",
    "            summing += hbc[j, i]\n",
    "\n",
    "    dh[j] = end-start\n",
    "    e[j] = end\n",
    "    s[j] = start\n",
    "print(e, s)\n",
    "print(len(e))\n",
    "en = int(np.round(e.mean()))\n",
    "st = int(np.round(s.mean()))"
   ]
  },
  {
   "cell_type": "code",
   "execution_count": 39,
   "metadata": {},
   "outputs": [],
   "source": [
    "wph_tot = np.array([])\n",
    "for i in range(0, wph.shape[0]):\n",
    "    wph_tot = np.append(wph_tot, wph[i][np.where((ikd < e[i]) & (ikd > s[i]))])"
   ]
  },
  {
   "cell_type": "code",
   "execution_count": 40,
   "metadata": {},
   "outputs": [],
   "source": [
    "wph[np.where(hbc == 0)] = 0"
   ]
  },
  {
   "cell_type": "code",
   "execution_count": 48,
   "metadata": {},
   "outputs": [],
   "source": [
    "from scipy.stats.mstats import mquantiles\n",
    "a = mquantiles(wph_tot, [0.025, 0.5, 0.975])\n",
    "file_out = open('../../output/simulation/{}_{}.txt'.format('wph', '30'), 'w')\n",
    "k = [a[1], a[1] - a[0], a[2] - a[1]]\n",
    "q = '{:.2f}'.format(k[0])\n",
    "e = '{:.2f}'.format(k[1])\n",
    "w = '{:.2f}'.format(k[2])\n",
    "file_out.write('$' + str(q) + '^{+' + str(w) + '}_{-' + str(e) + '}$')\n",
    "file_out.close()"
   ]
  },
  {
   "cell_type": "code",
   "execution_count": 49,
   "metadata": {},
   "outputs": [],
   "source": [
    "file_out = open('../../output/simulation/{}_{}.txt'.format('wph', '30'), 'w')\n",
    "file_out.write('$' + str(wph_tot.mean()) + '$')\n",
    "file_out.close()"
   ]
  },
  {
   "cell_type": "code",
   "execution_count": 115,
   "metadata": {},
   "outputs": [],
   "source": [
    "sad = np.logspace(0, np.log2(wph_tot.max()), 400, base=2)"
   ]
  },
  {
   "cell_type": "code",
   "execution_count": 116,
   "metadata": {},
   "outputs": [],
   "source": [
    "a = np.histogram(wph_tot, bins=sad)"
   ]
  },
  {
   "cell_type": "code",
   "execution_count": 119,
   "metadata": {},
   "outputs": [
    {
     "data": {
      "image/png": "[encoded data removed]",
      "text/plain": [
       "<Figure size 432x288 with 1 Axes>"
      ]
     },
     "metadata": {
      "needs_background": "light"
     },
     "output_type": "display_data"
    }
   ],
   "source": [
    "y = a[0]\n",
    "x = a[1][:-1] + 0.5 * (a[1][1] - a[1][0])\n",
    "plt.plot(np.log2(x), y)\n",
    "#plt.xscale('log')"
   ]
  },
  {
   "cell_type": "code",
   "execution_count": 93,
   "metadata": {
    "scrolled": false
   },
   "outputs": [
    {
     "data": {
      "image/png": "[encoded data removed]",
      "text/plain": [
       "<Figure size 432x288 with 1 Axes>"
      ]
     },
     "metadata": {
      "needs_background": "light"
     },
     "output_type": "display_data"
    }
   ],
   "source": [
    "from scipy.optimize import curve_fit\n",
    "from scipy.stats import lognorm\n",
    "shape, loc, scale = lognorm.fit(y)\n",
    "plt.plot(y)\n",
    "plt.plot(lognorm.pdf(x, shape, loc, scale))\n",
    "plt.xscale('log')"
   ]
  },
  {
   "cell_type": "code",
   "execution_count": null,
   "metadata": {},
   "outputs": [],
   "source": [
    "plt.figure(figsize=(5, 25/6))\n",
    "fig, ax = plt.subplots()\n",
    "ax1 = ax.twinx()\n",
    "for i in range(wph.shape[0]):\n",
    "    ax.plot(ikd, wph[i], c='#0173B2', alpha=0.01, marker='.', ls='')\n",
    "av_wph = wph.mean(axis=0)\n",
    "ax.plot(ikd[np.where(av_wph != 0)], np.trim_zeros(av_wph), c='#0173B2', marker='', ls='-')\n",
    "ax1.set_ylim([0, 3.6])\n",
    "for i in range(wph.shape[0]):\n",
    "    ax1.plot(ikd, wbc[i] * 100, c='#DE8F05', alpha=0.005)\n",
    "    ax.plot(ikd, hbc[i] *10000, c='#029E73', alpha=0.005)\n",
    "    ax.plot(ikd, tbc[i] *10000, c='#D55E00', alpha=0.005)\n",
    "#j = hb * 10000\n",
    "#ax.fill_between(np.arange(st, en), 0, j[st+60:en+60], facecolor='#CC78BC', alpha=0.5)\n",
    "ax.set_ylim([0, 25])\n",
    "ax.set_xlim([-20, 70])\n",
    "ax.set_xlabel(r'$z$/Å')\n",
    "ax.set_ylabel(r'Number Density Lipid/$\\times 10 ^{-4}$Å$^{-3}$'\n",
    "              '\\n'\n",
    "              r'wph')\n",
    "ax1.set_ylabel(r'Number Density Water/$5\\times 10 ^{-2}$Å$^{-3}$')\n",
    "plt.savefig('../../reports/figures/number_density.pdf')"
   ]
  },
  {
   "cell_type": "code",
   "execution_count": null,
   "metadata": {},
   "outputs": [],
   "source": []
  }
 ],
 "metadata": {
  "kernelspec": {
   "display_name": "Python [conda env:sim_vs_trad]",
   "language": "python",
   "name": "conda-env-sim_vs_trad-py"
  },
  "language_info": {
   "codemirror_mode": {
    "name": "ipython",
    "version": 3
   },
   "file_extension": ".py",
   "mimetype": "text/x-python",
   "name": "python",
   "nbconvert_exporter": "python",
   "pygments_lexer": "ipython3",
   "version": "3.7.1"
  },
  "latex_envs": {
   "LaTeX_envs_menu_present": true,
   "autoclose": false,
   "autocomplete": true,
   "bibliofile": "biblio.bib",
   "cite_by": "apalike",
   "current_citInitial": 1,
   "eqLabelWithNumbers": true,
   "eqNumInitial": 1,
   "hotkeys": {
    "equation": "Ctrl-E",
    "itemize": "Ctrl-I"
   },
   "labels_anchors": false,
   "latex_user_defs": false,
   "report_style_numbering": false,
   "user_envs_cfg": false
  }
 },
 "nbformat": 4,
 "nbformat_minor": 2
}
