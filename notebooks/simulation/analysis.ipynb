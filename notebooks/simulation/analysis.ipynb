{
 "cells": [
  {
   "cell_type": "code",
   "execution_count": null,
   "metadata": {},
   "outputs": [],
   "source": [
    "import numpy as np\n",
    "import os.path\n",
    "\n",
    "import refnx, scipy\n",
    "\n",
    "# the ReflectDataset object will contain the data\n",
    "from refnx.dataset import ReflectDataset\n",
    "\n",
    "# the reflect module contains functionality relevant to reflectometry\n",
    "from refnx.reflect import ReflectModel, MDSimulation\n",
    "\n",
    "# the analysis module contains the curvefitting engine\n",
    "from refnx.analysis import Objective, Transform, CurveFitter\n",
    "\n",
    "import sys\n",
    "sys.path.insert(0, '../../bin')\n",
    "sys.path.insert(0, '../../models')\n",
    "import sim_lengths as sl"
   ]
  },
  {
   "cell_type": "code",
   "execution_count": null,
   "metadata": {},
   "outputs": [],
   "source": [
    "# version numbers used in this analysis\n",
    "refnx.version.version, scipy.version.version"
   ]
  },
  {
   "cell_type": "code",
   "execution_count": null,
   "metadata": {},
   "outputs": [],
   "source": [
    "forcefield = sys.argv[1]\n",
    "surface_pressure = sys.argv[2]\n",
    "contrast = sys.argv[3]\n",
    "traj_dir = '../../data/simulation/{}/surf_pres_{}/'.format(forcefield, surface_pressure)\n",
    "print('{} {} {}'.format(forcefield, surface_pressure, contrast))\n",
    "\n",
    "head = ['D', 'D', 'H', 'H', 'H', 'D', 'D']\n",
    "tail = ['H', 'H', 'H', 'D', 'D', 'D', 'D']\n",
    "sol = ['acmw', 'D', 'D', 'acmw', 'D', 'acmw', 'D']\n",
    "contrasts = ['d13acmw', 'd13d2o', 'hd2o', 'd70acmw', 'd70d2o', 'd83acmw', 'd83d2o']"
   ]
  },
  {
   "cell_type": "code",
   "execution_count": null,
   "metadata": {},
   "outputs": [],
   "source": [
    "for k in range(0, len(contrasts)):\n",
    "    if contrasts[k] == contrast:\n",
    "        break"
   ]
  },
  {
   "cell_type": "code",
   "execution_count": null,
   "metadata": {},
   "outputs": [],
   "source": [
    "models = []\n",
    "datasets = []\n",
    "structures = []"
   ]
  },
  {
   "cell_type": "code",
   "execution_count": null,
   "metadata": {
    "scrolled": false
   },
   "outputs": [],
   "source": [
    "lgts = sl.get_lgts(head[k], tail[k], sol[k], forcefield)\n",
    "l = np.array([])\n",
    "timesteps = 0\n",
    "for i in range(1, 11):\n",
    "    print('frame{}'.format(i))\n",
    "    try:\n",
    "        del sim\n",
    "    except:\n",
    "        pass\n",
    "    if forcefield == 'martini':\n",
    "        lt = 4\n",
    "        rough = 0.2\n",
    "        co = 30\n",
    "    else:\n",
    "        lt = 1\n",
    "        rough = 0.\n",
    "        co = 15\n",
    "    sim = MDSimulation(os.path.join(traj_dir, 'frame{}.pdb'.format(i)), flip=True, \n",
    "                       verbose=True, layer_thickness=lt, roughness=rough)\n",
    "\n",
    "    sim.assign_scattering_lengths('neutron', atom_types=lgts[0], scattering_lengths=lgts[1])\n",
    "\n",
    "    sim.run()\n",
    "    layers_to_cut = int(co / lt) + 1\n",
    "    timesteps += sim.layers.shape[0]\n",
    "    l = np.append(l, sim.layers[:, :-layers_to_cut, :])"
   ]
  },
  {
   "cell_type": "code",
   "execution_count": null,
   "metadata": {},
   "outputs": [],
   "source": [
    "n = l.reshape(timesteps, sim.layers.shape[1]-layers_to_cut, sim.layers.shape[2])"
   ]
  },
  {
   "cell_type": "code",
   "execution_count": null,
   "metadata": {},
   "outputs": [],
   "source": [
    "data_dir = '../../data/experimental/surf_pres_{}/'.format(surface_pressure)\n",
    "dataset = ReflectDataset(os.path.join(data_dir, '{}{}.dat'.format(contrast, surface_pressure)))"
   ]
  },
  {
   "cell_type": "code",
   "execution_count": null,
   "metadata": {},
   "outputs": [],
   "source": [
    "refy = np.zeros((n.shape[0], dataset.x.size))\n",
    "sldy = []\n",
    "chi = np.zeros((n.shape[0]))"
   ]
  },
  {
   "cell_type": "code",
   "execution_count": null,
   "metadata": {
    "scrolled": false
   },
   "outputs": [],
   "source": [
    "for i in range(n.shape[0]):\n",
    "    sim.av_layers = n[i, :, :]\n",
    "    model = ReflectModel(sim)\n",
    "    model.scale.setp(100, vary=True, bounds=(0.00000001, np.inf))\n",
    "    model.bkg.setp(dataset.y[-1], vary=False)\n",
    "    objective = Objective(model, dataset, transform=Transform('YX4'))\n",
    "    fitter = CurveFitter(objective)\n",
    "    res = fitter.fit()\n",
    "    refy[i] = model(dataset.x, x_err=dataset.x_err)*(dataset.x)**4\n",
    "    sldy.append(sim.sld_profile()[1])\n",
    "    chi[i] = objective.chisqr()"
   ]
  },
  {
   "cell_type": "code",
   "execution_count": null,
   "metadata": {},
   "outputs": [],
   "source": [
    "import scipy\n",
    "from scipy.stats.mstats import mquantiles\n",
    "chi_arr = mquantiles(chi, prob=[0.025, 0.5, 0.975])\n",
    "chia = '{:.1f}'.format(chi_arr[1])\n",
    "\n",
    "chi_out = open('../../output/simulation/{}_{}_{}_chisq.txt'.format(contrast, forcefield, surface_pressure), 'w')\n",
    "chi_out.write('$' + str(chia) + '$')\n",
    "chi_out.close()"
   ]
  },
  {
   "cell_type": "code",
   "execution_count": null,
   "metadata": {},
   "outputs": [],
   "source": [
    "ref_out = open('../../output/simulation/{}_{}_{}_ref.txt'.format(contrast, forcefield, surface_pressure), 'w')\n",
    "for i in range(dataset.x.size):\n",
    "    ref_out.write('{} {} {} '.format(dataset.x[i], dataset.y[i]*(dataset.x[i])**4, dataset.y_err[i]*(dataset.x[i])**4))\n",
    "    for j in range(n.shape[0]):\n",
    "        ref_out.write('{} '.format(refy[j, i]))\n",
    "    ref_out.write('\\n')\n",
    "ref_out.close()"
   ]
  },
  {
   "cell_type": "code",
   "execution_count": null,
   "metadata": {},
   "outputs": [],
   "source": [
    "sld_out = open('../../output/simulation/{}_{}_{}_sld.txt'.format(contrast, forcefield, surface_pressure), 'w')\n",
    "sldya = np.asarray(sldy)\n",
    "for i in range(sim.sld_profile()[0].shape[0]):\n",
    "    sld_out.write('{} '.format(sim.sld_profile()[0][i]))\n",
    "    for j in range(sldya.shape[0]):\n",
    "        sld_out.write('{} '.format(sldya[j, i]))\n",
    "    sld_out.write('\\n')\n",
    "sld_out.close()"
   ]
  }
 ],
 "metadata": {
  "kernelspec": {
   "display_name": "Python [conda env:sim_vs_trad]",
   "language": "python",
   "name": "conda-env-sim_vs_trad-py"
  },
  "language_info": {
   "codemirror_mode": {
    "name": "ipython",
    "version": 3
   },
   "file_extension": ".py",
   "mimetype": "text/x-python",
   "name": "python",
   "nbconvert_exporter": "python",
   "pygments_lexer": "ipython3",
   "version": "3.7.1"
  }
 },
 "nbformat": 4,
 "nbformat_minor": 2
}
