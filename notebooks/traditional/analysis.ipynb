{
 "cells": [
  {
   "cell_type": "code",
   "execution_count": null,
   "metadata": {},
   "outputs": [],
   "source": [
    "import numpy as np\n",
    "\n",
    "# The refnx library\n",
    "import refnx\n",
    "from refnx.reflect import structure, ReflectModel, SLD\n",
    "from refnx.dataset import ReflectDataset\n",
    "from refnx.analysis import Transform, CurveFitter, Objective, GlobalObjective, Parameter\n",
    "\n",
    "# The periodictable library for scattering lengths\n",
    "import periodictable as pt\n",
    "\n",
    "# The mquantiles library to determined confidence intervals\n",
    "import scipy\n",
    "from scipy.stats.mstats import mquantiles\n",
    "\n",
    "# The custom class to constain the monolayer model. \n",
    "import sys\n",
    "sys.path.insert(0, '../../models')\n",
    "import mol_vol as mv"
   ]
  },
  {
   "cell_type": "code",
   "execution_count": null,
   "metadata": {},
   "outputs": [],
   "source": [
    "# version numbers used in this analysis\n",
    "refnx.version.version, scipy.version.version"
   ]
  },
  {
   "cell_type": "code",
   "execution_count": null,
   "metadata": {},
   "outputs": [],
   "source": [
    "surface_pressure = sys.argv[1]\n",
    "if surface_pressure == '20':\n",
    "    apm = 47.9\n",
    "elif surface_pressure == '30':\n",
    "    apm = 46.4\n",
    "elif surface_pressure == '40':\n",
    "    apm = 45.0\n",
    "elif surface_pressure == '50':\n",
    "    apm = 44.58\n",
    "data_dir = '../../data/experimental/'"
   ]
  },
  {
   "cell_type": "code",
   "execution_count": null,
   "metadata": {},
   "outputs": [],
   "source": [
    "d13acmw_ds = ReflectDataset('{}surf_pres_{}/d13acmw{}.dat'.format(data_dir, surface_pressure, surface_pressure))\n",
    "d70acmw_ds = ReflectDataset('{}surf_pres_{}/d70acmw{}.dat'.format(data_dir, surface_pressure, surface_pressure))\n",
    "d83acmw_ds = ReflectDataset('{}surf_pres_{}/d83acmw{}.dat'.format(data_dir, surface_pressure, surface_pressure))\n",
    "d13d2o_ds = ReflectDataset('{}surf_pres_{}/d13d2o{}.dat'.format(data_dir, surface_pressure, surface_pressure))\n",
    "d70d2o_ds = ReflectDataset('{}surf_pres_{}/d70d2o{}.dat'.format(data_dir, surface_pressure, surface_pressure))\n",
    "d83d2o_ds = ReflectDataset('{}surf_pres_{}/d83d2o{}.dat'.format(data_dir, surface_pressure, surface_pressure))\n",
    "hd2o_ds = ReflectDataset('{}surf_pres_{}/hd2o{}.dat'.format(data_dir, surface_pressure, surface_pressure))"
   ]
  },
  {
   "cell_type": "code",
   "execution_count": null,
   "metadata": {},
   "outputs": [],
   "source": [
    "d70_head = {'C': 10, 'H': 13, 'D': 5, 'O': 8, 'N': 1, 'P': 1}\n",
    "d13_head = {'C': 10, 'H': 5, 'D': 13, 'O': 8, 'N': 1, 'P': 1}\n",
    "h_head = {'C': 10, 'H': 18, 'O': 8, 'N': 1, 'P': 1}\n",
    "d83_head = {'C': 10, 'D': 18, 'O': 8, 'N': 1, 'P': 1}\n",
    "h_tail = {'C': 34, 'H': 70}\n",
    "d_tail = {'C': 34, 'D': 70}"
   ]
  },
  {
   "cell_type": "code",
   "execution_count": null,
   "metadata": {},
   "outputs": [],
   "source": [
    "d70h = mv.get_scattering_length(d70_head)\n",
    "d13h = mv.get_scattering_length(d13_head)\n",
    "hh = mv.get_scattering_length(h_head)\n",
    "d83h = mv.get_scattering_length(d83_head)\n",
    "ht = mv.get_scattering_length(h_tail)\n",
    "dt = mv.get_scattering_length(d_tail)"
   ]
  },
  {
   "cell_type": "code",
   "execution_count": null,
   "metadata": {},
   "outputs": [],
   "source": [
    "tail_length = 1.54 + 1.265 * 17\n",
    "head_thick = 14.\n",
    "chain_tilt = 0.82\n",
    "head_mol_vol = 340\n",
    "tail_mol_vol = 900"
   ]
  },
  {
   "cell_type": "code",
   "execution_count": null,
   "metadata": {},
   "outputs": [],
   "source": [
    "d13 = mv.VolMono(d13h, head_thick, ht, tail_length, chain_tilt, [head_mol_vol, tail_mol_vol], name='d13-lipid')\n",
    "d70 = mv.VolMono(d70h, head_thick, dt, tail_length, chain_tilt, [head_mol_vol, tail_mol_vol], name='d70-lipid')\n",
    "d83 = mv.VolMono(d83h, head_thick, dt, tail_length, chain_tilt, [head_mol_vol, tail_mol_vol], name='d83-lipid')\n",
    "h = mv.VolMono(hh, head_thick, ht, tail_length, chain_tilt, [head_mol_vol, tail_mol_vol], name='h-lipid')"
   ]
  },
  {
   "cell_type": "code",
   "execution_count": null,
   "metadata": {},
   "outputs": [],
   "source": [
    "air = SLD(0., 'air')\n",
    "acmw = SLD(0., 'acmw')\n",
    "d2o = SLD(6.35, 'd2o')"
   ]
  },
  {
   "cell_type": "code",
   "execution_count": null,
   "metadata": {},
   "outputs": [],
   "source": [
    "d13acmw = air(0, 0) | d13 | acmw(0, 3.3)\n",
    "d70acmw = air(0, 0) | d70 | acmw(0, 3.3)\n",
    "d83acmw = air(0, 0) | d83 | acmw(0, 3.3)\n",
    "d13d2o = air(0, 0) | d13 | d2o(0, 3.3)\n",
    "d70d2o = air(0, 0) | d70 | d2o(0, 3.3)\n",
    "d83d2o = air(0, 0) | d83 | d2o(0, 3.3)\n",
    "hd2o = air(0, 0) | h | d2o(0, 3.3)"
   ]
  },
  {
   "cell_type": "code",
   "execution_count": null,
   "metadata": {},
   "outputs": [],
   "source": [
    "d13.thick_heads.setp(vary=True, bounds=(6, 20))\n",
    "d13.cos_rad_chain_tilt.setp(vary=True, bounds=(0.01, 0.99))\n",
    "d13.phit.setp(vary=False)\n",
    "d13.phih.constraint = 1 - (d13.head_mol_vol * d13.tail_length * d13.cos_rad_chain_tilt / \n",
    "                           (d13.tail_mol_vol * d13.thick_heads))\n",
    "d13.rough_head_tail.setp(vary=True, bounds=(3.3, 8.))\n",
    "d13.rough_preceding_mono.constraint = d13.rough_head_tail\n",
    "d13.head_mol_vol.setp(320.9, vary=True, bounds=(100, 500))\n",
    "d13.tail_mol_vol.constraint = d13.cos_rad_chain_tilt * tail_length * apm\n",
    "d13acmw[-1].rough.constraint = d13.rough_head_tail"
   ]
  },
  {
   "cell_type": "code",
   "execution_count": null,
   "metadata": {},
   "outputs": [],
   "source": [
    "structures = [d13acmw, d70acmw, d83acmw, d13d2o, d70d2o, d83d2o, hd2o]\n",
    "lipids = [d13, d70, d83, h]\n",
    "\n",
    "lipids, structures = mv.set_constraints(lipids, structures)"
   ]
  },
  {
   "cell_type": "code",
   "execution_count": null,
   "metadata": {},
   "outputs": [],
   "source": [
    "model_d13acmw = ReflectModel(d13acmw)\n",
    "model_d13acmw.scale.setp(vary=True, bounds=(0.005, 10))\n",
    "model_d13acmw.bkg.setp(d13acmw_ds.y[-1], vary=False)\n",
    "\n",
    "model_d70acmw = ReflectModel(d70acmw)\n",
    "model_d70acmw.scale.setp(vary=True, bounds=(0.005, 10))\n",
    "model_d70acmw.bkg.setp(d70acmw_ds.y[-1], vary=False)\n",
    "\n",
    "model_d83acmw = ReflectModel(d83acmw)\n",
    "model_d83acmw.scale.setp(vary=True, bounds=(0.005, 10))\n",
    "model_d83acmw.bkg.setp(d83acmw_ds.y[-1], vary=False)\n",
    "\n",
    "model_d13d2o = ReflectModel(d13d2o)\n",
    "model_d13d2o.scale.setp(vary=True, bounds=(0.005, 10))\n",
    "model_d13d2o.bkg.setp(d13d2o_ds.y[-1], vary=False)\n",
    "\n",
    "model_d70d2o = ReflectModel(d70d2o)\n",
    "model_d70d2o.scale.setp(vary=True, bounds=(0.005, 10))\n",
    "model_d70d2o.bkg.setp(d70d2o_ds.y[-1], vary=False)\n",
    "\n",
    "model_d83d2o = ReflectModel(d83d2o)\n",
    "model_d83d2o.scale.setp(vary=True, bounds=(0.005, 10))\n",
    "model_d83d2o.bkg.setp(d83d2o_ds.y[-1], vary=False)\n",
    "\n",
    "model_hd2o = ReflectModel(hd2o)\n",
    "model_hd2o.scale.setp(vary=True, bounds=(0.005, 10))\n",
    "model_hd2o.bkg.setp(hd2o_ds.y[-1], vary=False)"
   ]
  },
  {
   "cell_type": "code",
   "execution_count": null,
   "metadata": {},
   "outputs": [],
   "source": [
    "objective_d13acmw = Objective(model_d13acmw, d13acmw_ds, transform=Transform('YX4'))\n",
    "objective_d70acmw = Objective(model_d70acmw, d70acmw_ds, transform=Transform('YX4'))\n",
    "objective_d83acmw = Objective(model_d83acmw, d83acmw_ds, transform=Transform('YX4'))\n",
    "objective_d13d2o = Objective(model_d13d2o, d13d2o_ds, transform=Transform('YX4'))\n",
    "objective_d70d2o = Objective(model_d70d2o, d70d2o_ds, transform=Transform('YX4'))\n",
    "objective_d83d2o = Objective(model_d83d2o, d83d2o_ds, transform=Transform('YX4'))\n",
    "objective_hd2o = Objective(model_hd2o, hd2o_ds, transform=Transform('YX4'))\n",
    "\n",
    "global_objective = GlobalObjective([objective_d13acmw, objective_d70acmw, objective_d83acmw, \n",
    "                                    objective_d13d2o, objective_d70d2o, objective_d83d2o, objective_hd2o])"
   ]
  },
  {
   "cell_type": "code",
   "execution_count": null,
   "metadata": {},
   "outputs": [],
   "source": [
    "fitter = CurveFitter(global_objective)\n",
    "res = fitter.fit('differential_evolution', seed=1)"
   ]
  },
  {
   "cell_type": "code",
   "execution_count": null,
   "metadata": {},
   "outputs": [],
   "source": [
    "m = 200\n",
    "n = 1000\n",
    "\n",
    "fitter.sample(m, random_state=1)\n",
    "fitter.sampler.reset()\n",
    "res = fitter.sample(n, nthin=1, random_state=1)\n",
    "flatchain = fitter.sampler.flatchain"
   ]
  },
  {
   "cell_type": "code",
   "execution_count": null,
   "metadata": {
    "scrolled": false
   },
   "outputs": [],
   "source": [
    "print(global_objective)"
   ]
  },
  {
   "cell_type": "code",
   "execution_count": null,
   "metadata": {},
   "outputs": [],
   "source": [
    "copychain = np.array(flatchain)\n",
    "\n",
    "copychain[:, 2] = np.rad2deg(np.arccos(copychain[:, 2]))"
   ]
  },
  {
   "cell_type": "code",
   "execution_count": null,
   "metadata": {},
   "outputs": [],
   "source": [
    "labels = ['scale1', 'dh', 'angle', 'vh', 'roughness', 'scale2', 'scale3', \n",
    "          'scale4', 'scale5', 'scale6', 'scale7']\n",
    "for k, label in enumerate(labels):\n",
    "    file_out = open('../../output/traditional/{}_{}.txt'.format(label, surface_pressure), 'w')\n",
    "    a = mquantiles(copychain[:, k], prob=[0.025, 0.5, 0.975])\n",
    "    k = [a[1], a[1] - a[0], a[2] - a[1]]\n",
    "    q = '{:.2f}'.format(k[0])\n",
    "    e = '{:.2f}'.format(k[1])\n",
    "    w = '{:.2f}'.format(k[2])\n",
    "    file_out.write('$' + str(q) + '^{+' + str(w) + '}_{-' + str(e) + '}$')\n",
    "    file_out.close()"
   ]
  },
  {
   "cell_type": "code",
   "execution_count": null,
   "metadata": {},
   "outputs": [],
   "source": [
    "solh = 1 - (copychain[:, 3]) / (apm * copychain[:, 2])\n",
    "solh *= 100\n",
    "wph = (solh / 100) * copychain[:, 3] / (29.9 - 29.9 * (solh / 100))\n",
    "variables = [solh, wph]\n",
    "labels = ['solh', 'wph']\n",
    "for k, label in enumerate(labels):\n",
    "    file_out = open('../../output/traditional/{}_{}.txt'.format(label, surface_pressure), 'w')\n",
    "    a = mquantiles(variables[k], prob=[0.025, 0.5, 0.975])\n",
    "    k = [a[1], a[1] - a[0], a[2] - a[1]]\n",
    "    q = '{:.2f}'.format(k[0])\n",
    "    e = '{:.2f}'.format(k[1])\n",
    "    w = '{:.2f}'.format(k[2])\n",
    "    file_out.write('$' + str(q) + '^{+' + str(w) + '}_{-' + str(e) + '}$')\n",
    "    file_out.close()"
   ]
  },
  {
   "cell_type": "code",
   "execution_count": null,
   "metadata": {},
   "outputs": [],
   "source": [
    "contrasts = ['d13acmw', 'd70acmw', 'd83acmw', 'd13d2o', 'd70d2o', 'd83d2o', 'hd2o']\n",
    "for i, a in enumerate(global_objective.objectives):\n",
    "    file_out = open('../../output/traditional/{}_{}_chisq.txt'.format(contrasts[i], surface_pressure), 'w')\n",
    "    file_out.write('${:.2f}$'.format(a.chisqr()))\n",
    "    file_out.close()"
   ]
  },
  {
   "cell_type": "code",
   "execution_count": null,
   "metadata": {},
   "outputs": [],
   "source": [
    "def custom_pgen(objective, ngen):\n",
    "    chains = np.array([np.ravel(param.chain[..., 0::1]) for param\n",
    "                           in objective.varying_parameters()\n",
    "                           if param.chain is not None])\n",
    "\n",
    "    if len(chains) != len(objective.varying_parameters()) or len(chains) == 0:\n",
    "        raise ValueError(\"You need to perform sampling on all the varying\"\n",
    "                         \"parameters first\")\n",
    "\n",
    "    samples = np.arange(np.size(chains, 1))\n",
    "    \n",
    "    np.random.seed(1)\n",
    "\n",
    "    choices = np.random.choice(samples,\n",
    "                               size=(min(ngen, samples.size),),\n",
    "                               replace=False)\n",
    "\n",
    "    for choice in choices:\n",
    "        yield chains[..., choice]"
   ]
  },
  {
   "cell_type": "code",
   "execution_count": null,
   "metadata": {
    "scrolled": false
   },
   "outputs": [],
   "source": [
    "contrasts = ['d13acmw', 'd70acmw', 'd83acmw', 'd13d2o', 'd70d2o', 'd83d2o', 'hd2o']\n",
    "models = [model_d13acmw, model_d70acmw, model_d83acmw, model_d13d2o, model_d70d2o, model_d83d2o, \n",
    "          model_hd2o]\n",
    "datasets = [d13acmw_ds, d70acmw_ds, d83acmw_ds, d13d2o_ds, d70d2o_ds, d83d2o_ds, hd2o_ds]\n",
    "for k, con in enumerate(contrasts):\n",
    "    for obj in global_objective.objectives:\n",
    "        if con in obj.data.name:\n",
    "            ref_out = open('../../output/traditional/{}_{}_ref.txt'.format(con, surface_pressure), 'w')\n",
    "            for i in range(datasets[k].x.size):\n",
    "                ref_out.write('{} {} {} '.format(datasets[k].x[i], datasets[k].y[i]*(datasets[k].x[i])**4, \n",
    "                                                 datasets[k].y_err[i]*(datasets[k].x[i])**4))\n",
    "                choose = custom_pgen(global_objective, 100)\n",
    "                for c in choose:\n",
    "                    global_objective.setp(c)\n",
    "                    ref_out.write('{} '.format(models[k](datasets[k].x[i])*(datasets[k].x[i])**4))\n",
    "                ref_out.write('\\n')\n",
    "            ref_out.close()"
   ]
  },
  {
   "cell_type": "code",
   "execution_count": null,
   "metadata": {},
   "outputs": [],
   "source": [
    "for i, struct in enumerate(structures):\n",
    "    sld_out = open('../../output/traditional/{}_{}_sld.txt'.format(contrasts[i], surface_pressure), 'w')\n",
    "    for j in range(struct.sld_profile()[0].size):\n",
    "        sld_out.write('{} '.format(struct.sld_profile()[0][j]))\n",
    "        choose = custom_pgen(global_objective, 100)\n",
    "        for c in choose:\n",
    "            global_objective.setp(c)\n",
    "            sld_out.write('{} '.format(struct.sld_profile()[1][j]))\n",
    "        sld_out.write('\\n')\n",
    "    sld_out.close()"
   ]
  },
  {
   "cell_type": "code",
   "execution_count": null,
   "metadata": {},
   "outputs": [],
   "source": []
  }
 ],
 "metadata": {
  "kernelspec": {
   "display_name": "Python [conda env:sim_vs_trad]",
   "language": "python",
   "name": "conda-env-sim_vs_trad-py"
  },
  "language_info": {
   "codemirror_mode": {
    "name": "ipython",
    "version": 3
   },
   "file_extension": ".py",
   "mimetype": "text/x-python",
   "name": "python",
   "nbconvert_exporter": "python",
   "pygments_lexer": "ipython3",
   "version": "3.7.1"
  }
 },
 "nbformat": 4,
 "nbformat_minor": 2
}
