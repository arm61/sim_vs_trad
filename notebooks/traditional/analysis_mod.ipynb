{
 "cells": [
  {
   "cell_type": "code",
   "execution_count": 1,
   "metadata": {},
   "outputs": [],
   "source": [
    "import numpy as np\n",
    "\n",
    "# The refnx library\n",
    "import refnx\n",
    "from refnx.reflect import structure, ReflectModel, SLD\n",
    "from refnx.dataset import ReflectDataset\n",
    "from refnx.analysis import Transform, CurveFitter, Objective, GlobalObjective, Parameter\n",
    "\n",
    "# The periodictable library for scattering lengths\n",
    "import periodictable as pt\n",
    "\n",
    "# The mquantiles library to determined confidence intervals\n",
    "import scipy\n",
    "from scipy.stats.mstats import mquantiles\n",
    "\n",
    "# The custom class to constain the monolayer model. \n",
    "import sys\n",
    "sys.path.insert(0, '../../models')\n",
    "import mol_vol_mod as mv"
   ]
  },
  {
   "cell_type": "code",
   "execution_count": 2,
   "metadata": {},
   "outputs": [
    {
     "data": {
      "text/plain": [
       "('0.1.1.dev0+6251c23', '1.1.0')"
      ]
     },
     "execution_count": 2,
     "metadata": {},
     "output_type": "execute_result"
    }
   ],
   "source": [
    "# version numbers used in this analysis\n",
    "refnx.version.version, scipy.version.version"
   ]
  },
  {
   "cell_type": "code",
   "execution_count": 3,
   "metadata": {},
   "outputs": [],
   "source": [
    "surface_pressure = '30'#sys.argv[1]\n",
    "if surface_pressure == '20':\n",
    "    apm = 47.9\n",
    "elif surface_pressure == '30':\n",
    "    apm = 46.4\n",
    "elif surface_pressure == '40':\n",
    "    apm = 45.0\n",
    "elif surface_pressure == '50':\n",
    "    apm = 44.58\n",
    "data_dir = '../../data/experimental/'"
   ]
  },
  {
   "cell_type": "code",
   "execution_count": 4,
   "metadata": {},
   "outputs": [],
   "source": [
    "d13acmw_ds = ReflectDataset('{}surf_pres_{}/d13acmw{}.dat'.format(data_dir, surface_pressure, surface_pressure))\n",
    "d70acmw_ds = ReflectDataset('{}surf_pres_{}/d70acmw{}.dat'.format(data_dir, surface_pressure, surface_pressure))\n",
    "d83acmw_ds = ReflectDataset('{}surf_pres_{}/d83acmw{}.dat'.format(data_dir, surface_pressure, surface_pressure))\n",
    "d13d2o_ds = ReflectDataset('{}surf_pres_{}/d13d2o{}.dat'.format(data_dir, surface_pressure, surface_pressure))\n",
    "d70d2o_ds = ReflectDataset('{}surf_pres_{}/d70d2o{}.dat'.format(data_dir, surface_pressure, surface_pressure))\n",
    "d83d2o_ds = ReflectDataset('{}surf_pres_{}/d83d2o{}.dat'.format(data_dir, surface_pressure, surface_pressure))\n",
    "hd2o_ds = ReflectDataset('{}surf_pres_{}/hd2o{}.dat'.format(data_dir, surface_pressure, surface_pressure))"
   ]
  },
  {
   "cell_type": "code",
   "execution_count": 5,
   "metadata": {},
   "outputs": [],
   "source": [
    "d70_head1 = {'C': 5, 'H': 13, 'O': 4, 'N': 1, 'P': 1}\n",
    "d13_head1 = {'C': 5, 'D': 13, 'O': 4, 'N': 1, 'P': 1}\n",
    "h_head1 = {'C': 5, 'H': 13, 'O': 4, 'N': 1, 'P': 1}\n",
    "d83_head1 = {'C': 5, 'D': 13, 'O': 4, 'N': 1, 'P': 1}\n",
    "d70_head2 = {'C': 5, 'D': 5, 'O': 4}\n",
    "d13_head2 = {'C': 5, 'H': 5, 'O': 4}\n",
    "h_head2 = {'C': 5, 'H': 5, 'O': 4}\n",
    "d83_head2 = {'C': 5, 'D': 5, 'O': 4}\n",
    "h_tail = {'C': 34, 'H': 70}\n",
    "d_tail = {'C': 34, 'D': 70}"
   ]
  },
  {
   "cell_type": "code",
   "execution_count": 6,
   "metadata": {},
   "outputs": [],
   "source": [
    "d70h1 = mv.get_scattering_length(d70_head1)\n",
    "d13h1 = mv.get_scattering_length(d13_head1)\n",
    "hh1 = mv.get_scattering_length(h_head1)\n",
    "d83h1 = mv.get_scattering_length(d83_head1)\n",
    "d70h2 = mv.get_scattering_length(d70_head2)\n",
    "d13h2 = mv.get_scattering_length(d13_head2)\n",
    "hh2 = mv.get_scattering_length(h_head2)\n",
    "d83h2 = mv.get_scattering_length(d83_head2)\n",
    "ht = mv.get_scattering_length(h_tail)\n",
    "dt = mv.get_scattering_length(d_tail)"
   ]
  },
  {
   "cell_type": "code",
   "execution_count": 7,
   "metadata": {},
   "outputs": [],
   "source": [
    "tail_length = 1.54 + 1.265 * 17\n",
    "head_thick1 = 7.\n",
    "head_thick2 = 7.\n",
    "chain_tilt = 0.82\n",
    "head_mol_vol1 = 200\n",
    "head_mol_vol2 = 140\n",
    "tail_mol_vol = 900"
   ]
  },
  {
   "cell_type": "code",
   "execution_count": 8,
   "metadata": {},
   "outputs": [],
   "source": [
    "d13 = mv.VolMono(d13h1, head_thick1, d13h2, head_thick2, ht, tail_length, \n",
    "                 chain_tilt, [head_mol_vol1, head_mol_vol2, tail_mol_vol], name='d13-lipid')\n",
    "d70 = mv.VolMono(d70h1, head_thick1, d70h2, head_thick2, dt, tail_length, \n",
    "                 chain_tilt, [head_mol_vol1, head_mol_vol2, tail_mol_vol], name='d70-lipid')\n",
    "d83 = mv.VolMono(d83h1, head_thick1, d83h2, head_thick2, dt, tail_length, \n",
    "                 chain_tilt, [head_mol_vol1, head_mol_vol2, tail_mol_vol], name='d83-lipid')\n",
    "h = mv.VolMono(hh1, head_thick1, hh2, head_thick2, ht, tail_length, \n",
    "               chain_tilt, [head_mol_vol1, head_mol_vol2, tail_mol_vol], name='h-lipid')"
   ]
  },
  {
   "cell_type": "code",
   "execution_count": 9,
   "metadata": {},
   "outputs": [],
   "source": [
    "air = SLD(0., 'air')\n",
    "acmw = SLD(0., 'acmw')\n",
    "d2o = SLD(6.35, 'd2o')"
   ]
  },
  {
   "cell_type": "code",
   "execution_count": 10,
   "metadata": {},
   "outputs": [],
   "source": [
    "d13acmw = air(0, 0) | d13 | acmw(0, 3.3)\n",
    "d70acmw = air(0, 0) | d70 | acmw(0, 3.3)\n",
    "d83acmw = air(0, 0) | d83 | acmw(0, 3.3)\n",
    "d13d2o = air(0, 0) | d13 | d2o(0, 3.3)\n",
    "d70d2o = air(0, 0) | d70 | d2o(0, 3.3)\n",
    "d83d2o = air(0, 0) | d83 | d2o(0, 3.3)\n",
    "hd2o = air(0, 0) | h | d2o(0, 3.3)"
   ]
  },
  {
   "cell_type": "code",
   "execution_count": 11,
   "metadata": {},
   "outputs": [],
   "source": [
    "def get_value(file, simtrad):\n",
    "    f = open('../../output/' + simtrad + '/' + file + '.txt', 'r')\n",
    "    for line in f:\n",
    "        k = line\n",
    "    l = k.split('$')[1]\n",
    "    m = l.split('^')[0]\n",
    "    return float(m)"
   ]
  },
  {
   "cell_type": "code",
   "execution_count": 12,
   "metadata": {},
   "outputs": [],
   "source": [
    "d13.phih1.setp(0.5, vary=True, bounds=(0.5, 0.999))\n",
    "d13.head_mol_vol1.setp(200, vary=True, bounds=(50, 300))\n",
    "d13.thick_heads1.constraint = d13.head_mol_vol1 / (apm * (1 - d13.phih1))\n",
    "d13.phih2.setp(0.5, vary=True, bounds=(0.1, 0.999))\n",
    "d13.head_mol_vol2.setp(200, vary=True, bounds=(50, 300))\n",
    "d13.thick_heads2.constraint = d13.head_mol_vol2 / (apm * (1 - d13.phih2))\n",
    "d13.cos_rad_chain_tilt.setp(np.cos(np.deg2rad(get_value('angle_{}'.format(surface_pressure), \n",
    "                                   'traditional'))), vary=True, bounds=(0.01, 0.99))\n",
    "d13.phit.setp(vary=False)\n",
    "d13.rough_head_tail.setp(get_value('roughness_{}'.format(surface_pressure), 'traditional'), vary=True, bounds=(2., 5))\n",
    "d13.rough_preceding_mono.constraint = d13.rough_head_tail\n",
    "d13.tail_mol_vol.constraint = d13.cos_rad_chain_tilt * tail_length * apm\n",
    "d13acmw[-1].rough.constraint = d13.rough_head_tail"
   ]
  },
  {
   "cell_type": "code",
   "execution_count": 13,
   "metadata": {},
   "outputs": [],
   "source": [
    "structures = [d13acmw, d70acmw, d83acmw, d13d2o, d70d2o, d83d2o, hd2o]\n",
    "lipids = [d13, d70, d83, h]\n",
    "\n",
    "lipids, structures = mv.set_constraints(lipids, structures)"
   ]
  },
  {
   "cell_type": "code",
   "execution_count": 14,
   "metadata": {},
   "outputs": [],
   "source": [
    "model_d13acmw = ReflectModel(d13acmw)\n",
    "model_d13acmw.scale.setp(vary=True, bounds=(0.005, 10))\n",
    "model_d13acmw.bkg.setp(d13acmw_ds.y[-1], vary=False)\n",
    "\n",
    "model_d70acmw = ReflectModel(d70acmw)\n",
    "model_d70acmw.scale.setp(vary=True, bounds=(0.005, 10))\n",
    "model_d70acmw.bkg.setp(d70acmw_ds.y[-1], vary=False)\n",
    "\n",
    "model_d83acmw = ReflectModel(d83acmw)\n",
    "model_d83acmw.scale.setp(vary=True, bounds=(0.005, 10))\n",
    "model_d83acmw.bkg.setp(d83acmw_ds.y[-1], vary=False)\n",
    "\n",
    "model_d13d2o = ReflectModel(d13d2o)\n",
    "model_d13d2o.scale.setp(vary=True, bounds=(0.005, 10))\n",
    "model_d13d2o.bkg.setp(d13d2o_ds.y[-1], vary=False)\n",
    "\n",
    "model_d70d2o = ReflectModel(d70d2o)\n",
    "model_d70d2o.scale.setp(vary=True, bounds=(0.005, 10))\n",
    "model_d70d2o.bkg.setp(d70d2o_ds.y[-1], vary=False)\n",
    "\n",
    "model_d83d2o = ReflectModel(d83d2o)\n",
    "model_d83d2o.scale.setp(vary=True, bounds=(0.005, 10))\n",
    "model_d83d2o.bkg.setp(d83d2o_ds.y[-1], vary=False)\n",
    "\n",
    "model_hd2o = ReflectModel(hd2o)\n",
    "model_hd2o.scale.setp(vary=True, bounds=(0.005, 10))\n",
    "model_hd2o.bkg.setp(hd2o_ds.y[-1], vary=False)"
   ]
  },
  {
   "cell_type": "code",
   "execution_count": 15,
   "metadata": {},
   "outputs": [],
   "source": [
    "objective_d13acmw = Objective(model_d13acmw, d13acmw_ds, transform=Transform('YX4'))\n",
    "objective_d70acmw = Objective(model_d70acmw, d70acmw_ds, transform=Transform('YX4'))\n",
    "objective_d83acmw = Objective(model_d83acmw, d83acmw_ds, transform=Transform('YX4'))\n",
    "objective_d13d2o = Objective(model_d13d2o, d13d2o_ds, transform=Transform('YX4'))\n",
    "objective_d70d2o = Objective(model_d70d2o, d70d2o_ds, transform=Transform('YX4'))\n",
    "objective_d83d2o = Objective(model_d83d2o, d83d2o_ds, transform=Transform('YX4'))\n",
    "objective_hd2o = Objective(model_hd2o, hd2o_ds, transform=Transform('YX4'))\n",
    "\n",
    "global_objective = GlobalObjective([objective_d13acmw, objective_d70acmw, objective_d83acmw, \n",
    "                                    objective_d13d2o, objective_d70d2o, objective_d83d2o, objective_hd2o])"
   ]
  },
  {
   "cell_type": "code",
   "execution_count": 16,
   "metadata": {
    "scrolled": false
   },
   "outputs": [],
   "source": [
    "fitter = CurveFitter(global_objective)\n",
    "res = fitter.fit('differential_evolution', seed=1)"
   ]
  },
  {
   "cell_type": "code",
   "execution_count": 17,
   "metadata": {
    "scrolled": false
   },
   "outputs": [
    {
     "name": "stdout",
     "output_type": "stream",
     "text": [
      "_______________________________________________________________________________\n",
      "\n",
      "--Global Objective--\n",
      "________________________________________________________________________________\n",
      "Objective - 140395264821792\n",
      "Dataset = d13acmw30\n",
      "datapoints = 51\n",
      "chi2 = 567.5402594168685\n",
      "Weighted = True\n",
      "Transform = <refnx.analysis.objective.Transform object at 0x7fb051e34908>\n",
      "________________________________________________________________________________\n",
      "Parameters:       ''       \n",
      "________________________________________________________________________________\n",
      "Parameters: 'instrument parameters'\n",
      "<Parameter:    'scale'    value=    3.57452     +/- 0.263, bounds=[0.005, 10]>\n",
      "<Parameter:     'bkg'     value=  1.2229e-06    (fixed)  , bounds=[-inf, inf]>\n",
      "<Parameter:'dq - resolution'value=       5        (fixed)  , bounds=[-inf, inf]>\n",
      "________________________________________________________________________________\n",
      "Parameters: 'Structure - ' \n",
      "________________________________________________________________________________\n",
      "Parameters:      'air'     \n",
      "<Parameter: 'air - thick' value=       0        (fixed)  , bounds=[-inf, inf]>\n",
      "<Parameter:  'air - sld'  value=       0        (fixed)  , bounds=[-inf, inf]>\n",
      "<Parameter: 'air - isld'  value=       0        (fixed)  , bounds=[-inf, inf]>\n",
      "<Parameter: 'air - rough' value=       0        (fixed)  , bounds=[-inf, inf]>\n",
      "<Parameter:'air - volfrac solvent'value=       0        (fixed)  , bounds=[-inf, inf]>\n",
      "________________________________________________________________________________\n",
      "Parameters:   'd13-lipid'  \n",
      "<Parameter:'d13-lipid - b_heads_real1'value=  0.00157714    (fixed)  , bounds=[-inf, inf]>\n",
      "<Parameter:'d13-lipid - b_heads_imag1'value=       0        (fixed)  , bounds=[-inf, inf]>\n",
      "<Parameter:'d13-lipid - b_heads_real2'value=  0.000377575   (fixed)  , bounds=[-inf, inf]>\n",
      "<Parameter:'d13-lipid - b_heads_imag2'value=       0        (fixed)  , bounds=[-inf, inf]>\n",
      "<Parameter:'d13-lipid - b_tails_real'value= -0.000358174   (fixed)  , bounds=[-inf, inf]>\n",
      "<Parameter:'d13-lipid - b_tails_imag'value=       0        (fixed)  , bounds=[-inf, inf]>\n",
      "<Parameter:'d13-lipid - thick_heads1'value=    381.522              , bounds=[-inf, inf], constraint=<Parameter:     None      value=    381.522     (fixed)  , bounds=None>>\n",
      "<Parameter:'d13-lipid - thick_heads2'value=    8.30456              , bounds=[-inf, inf], constraint=<Parameter:     None      value=    8.30456     (fixed)  , bounds=None>>\n",
      "<Parameter:'d13-lipid - tail_length'value=    23.045      (fixed)  , bounds=[-inf, inf]>\n",
      "<Parameter:'d13-lipid - chain_tilt'value=   0.837634     +/- 0.0229, bounds=[0.01, 0.99]>\n",
      "<Parameter:'d13-lipid - tail_molecular_volume'value=    895.672              , bounds=[-inf, inf], constraint=<Parameter:     None      value=    895.672     (fixed)  , bounds=None>>\n",
      "<Parameter:'d13-lipid - head_molecular_volume1'value=    246.12       +/- 37  , bounds=[50, 300]>\n",
      "<Parameter:'d13-lipid - head_molecular_volume2'value=    264.018     +/- 12.6 , bounds=[50, 300]>\n",
      "<Parameter:'d13-lipid - rough_head_tail'value=    4.48138     +/- 0.355, bounds=[2.0, 5]>\n",
      "<Parameter:'d13-lipid - rough_preceding_mono'value=    4.48138              , bounds=[-inf, inf], constraint=<Parameter:'d13-lipid - rough_head_tail'value=    4.48138     +/- 0.355, bounds=[2.0, 5]>>\n",
      "<Parameter:'d13-lipid - phit'value=       0        (fixed)  , bounds=[-inf, inf]>\n",
      "<Parameter:'d13-lipid - phih1'value=   0.986097     +/- 0.00208, bounds=[0.5, 0.999]>\n",
      "<Parameter:'d13-lipid - phih2'value=    0.31483     +/- 0.0845, bounds=[0.1, 0.999]>\n",
      "________________________________________________________________________________\n",
      "Parameters:     'acmw'     \n",
      "<Parameter:'acmw - thick' value=       0        (fixed)  , bounds=[-inf, inf]>\n",
      "<Parameter: 'acmw - sld'  value=       0        (fixed)  , bounds=[-inf, inf]>\n",
      "<Parameter: 'acmw - isld' value=       0        (fixed)  , bounds=[-inf, inf]>\n",
      "<Parameter:'acmw - rough' value=    4.48138              , bounds=[-inf, inf], constraint=<Parameter:'d13-lipid - rough_head_tail'value=    4.48138     +/- 0.355, bounds=[2.0, 5]>>\n",
      "<Parameter:'acmw - volfrac solvent'value=       0        (fixed)  , bounds=[-inf, inf]>\n",
      "\n",
      "\n",
      "________________________________________________________________________________\n",
      "Objective - 140395264822184\n",
      "Dataset = d70acmw30\n",
      "datapoints = 51\n",
      "chi2 = 408.99118055962765\n",
      "Weighted = True\n",
      "Transform = <refnx.analysis.objective.Transform object at 0x7fb051e34978>\n",
      "________________________________________________________________________________\n",
      "Parameters:       ''       \n",
      "________________________________________________________________________________\n",
      "Parameters: 'instrument parameters'\n",
      "<Parameter:    'scale'    value=   0.163415     +/- 0.000797, bounds=[0.005, 10]>\n",
      "<Parameter:     'bkg'     value=  9.4625e-07    (fixed)  , bounds=[-inf, inf]>\n",
      "<Parameter:'dq - resolution'value=       5        (fixed)  , bounds=[-inf, inf]>\n",
      "________________________________________________________________________________\n",
      "Parameters: 'Structure - ' \n",
      "________________________________________________________________________________\n",
      "Parameters:      'air'     \n",
      "<Parameter: 'air - thick' value=       0        (fixed)  , bounds=[-inf, inf]>\n",
      "<Parameter:  'air - sld'  value=       0        (fixed)  , bounds=[-inf, inf]>\n",
      "<Parameter: 'air - isld'  value=       0        (fixed)  , bounds=[-inf, inf]>\n",
      "<Parameter: 'air - rough' value=       0        (fixed)  , bounds=[-inf, inf]>\n",
      "<Parameter:'air - volfrac solvent'value=       0        (fixed)  , bounds=[-inf, inf]>\n",
      "________________________________________________________________________________\n",
      "Parameters:   'd70-lipid'  \n",
      "<Parameter:'d70-lipid - b_heads_real1'value=  0.000223203   (fixed)  , bounds=[-inf, inf]>\n",
      "<Parameter:'d70-lipid - b_heads_imag1'value=       0        (fixed)  , bounds=[-inf, inf]>\n",
      "<Parameter:'d70-lipid - b_heads_real2'value=  0.00089832    (fixed)  , bounds=[-inf, inf]>\n",
      "<Parameter:'d70-lipid - b_heads_imag2'value=       0        (fixed)  , bounds=[-inf, inf]>\n",
      "<Parameter:'d70-lipid - b_tails_real'value=  0.00693226    (fixed)  , bounds=[-inf, inf]>\n",
      "<Parameter:'d70-lipid - b_tails_imag'value=       0        (fixed)  , bounds=[-inf, inf]>\n",
      "<Parameter:'d70-lipid - thick_heads1'value=    381.522              , bounds=[-inf, inf], constraint=<Parameter:'d13-lipid - thick_heads1'value=    381.522              , bounds=[-inf, inf], constraint=<Parameter:     None      value=    381.522     (fixed)  , bounds=None>>>\n",
      "<Parameter:'d70-lipid - thick_heads2'value=    8.30456              , bounds=[-inf, inf], constraint=<Parameter:'d13-lipid - thick_heads2'value=    8.30456              , bounds=[-inf, inf], constraint=<Parameter:     None      value=    8.30456     (fixed)  , bounds=None>>>\n",
      "<Parameter:'d70-lipid - tail_length'value=    23.045               , bounds=[-inf, inf], constraint=<Parameter:'d13-lipid - tail_length'value=    23.045      (fixed)  , bounds=[-inf, inf]>>\n",
      "<Parameter:'d70-lipid - chain_tilt'value=   0.837634              , bounds=[-inf, inf], constraint=<Parameter:'d13-lipid - chain_tilt'value=   0.837634     +/- 0.0229, bounds=[0.01, 0.99]>>\n",
      "<Parameter:'d70-lipid - tail_molecular_volume'value=    895.672              , bounds=[-inf, inf], constraint=<Parameter:'d13-lipid - tail_molecular_volume'value=    895.672              , bounds=[-inf, inf], constraint=<Parameter:     None      value=    895.672     (fixed)  , bounds=None>>>\n",
      "<Parameter:'d70-lipid - head_molecular_volume1'value=    246.12               , bounds=[-inf, inf], constraint=<Parameter:'d13-lipid - head_molecular_volume1'value=    246.12       +/- 37  , bounds=[50, 300]>>\n",
      "<Parameter:'d70-lipid - head_molecular_volume2'value=    264.018              , bounds=[-inf, inf], constraint=<Parameter:'d13-lipid - head_molecular_volume2'value=    264.018     +/- 12.6 , bounds=[50, 300]>>\n",
      "<Parameter:'d70-lipid - rough_head_tail'value=    4.48138              , bounds=[-inf, inf], constraint=<Parameter:'d13-lipid - rough_head_tail'value=    4.48138     +/- 0.355, bounds=[2.0, 5]>>\n",
      "<Parameter:'d70-lipid - rough_preceding_mono'value=    4.48138              , bounds=[-inf, inf], constraint=<Parameter:'d13-lipid - rough_preceding_mono'value=    4.48138              , bounds=[-inf, inf], constraint=<Parameter:'d13-lipid - rough_head_tail'value=    4.48138     +/- 0.355, bounds=[2.0, 5]>>>\n",
      "<Parameter:'d70-lipid - phit'value=       0                 , bounds=[-inf, inf], constraint=<Parameter:'d13-lipid - phit'value=       0        (fixed)  , bounds=[-inf, inf]>>\n",
      "<Parameter:'d70-lipid - phih1'value=   0.986097              , bounds=[-inf, inf], constraint=<Parameter:'d13-lipid - phih1'value=   0.986097     +/- 0.00208, bounds=[0.5, 0.999]>>\n",
      "<Parameter:'d70-lipid - phih2'value=    0.31483              , bounds=[-inf, inf], constraint=<Parameter:'d13-lipid - phih2'value=    0.31483     +/- 0.0845, bounds=[0.1, 0.999]>>\n",
      "________________________________________________________________________________\n",
      "Parameters:     'acmw'     \n",
      "<Parameter:'acmw - thick' value=       0        (fixed)  , bounds=[-inf, inf]>\n",
      "<Parameter: 'acmw - sld'  value=       0        (fixed)  , bounds=[-inf, inf]>\n",
      "<Parameter: 'acmw - isld' value=       0        (fixed)  , bounds=[-inf, inf]>\n",
      "<Parameter:'acmw - rough' value=    4.48138              , bounds=[-inf, inf], constraint=<Parameter:'acmw - rough' value=    4.48138              , bounds=[-inf, inf], constraint=<Parameter:'d13-lipid - rough_head_tail'value=    4.48138     +/- 0.355, bounds=[2.0, 5]>>>\n",
      "<Parameter:'acmw - volfrac solvent'value=       0        (fixed)  , bounds=[-inf, inf]>\n",
      "\n",
      "\n",
      "________________________________________________________________________________\n",
      "Objective - 140395264821680\n",
      "Dataset = d83acmw30\n",
      "datapoints = 51\n",
      "chi2 = 417.0778414630202\n",
      "Weighted = True\n",
      "Transform = <refnx.analysis.objective.Transform object at 0x7fb051e34ac8>\n",
      "________________________________________________________________________________\n",
      "Parameters:       ''       \n",
      "________________________________________________________________________________\n",
      "Parameters: 'instrument parameters'\n",
      "<Parameter:    'scale'    value=   0.237021     +/- 0.00112, bounds=[0.005, 10]>\n",
      "<Parameter:     'bkg'     value=  1.0005e-06    (fixed)  , bounds=[-inf, inf]>\n",
      "<Parameter:'dq - resolution'value=       5        (fixed)  , bounds=[-inf, inf]>\n",
      "________________________________________________________________________________\n",
      "Parameters: 'Structure - ' \n",
      "________________________________________________________________________________\n",
      "Parameters:      'air'     \n",
      "<Parameter: 'air - thick' value=       0        (fixed)  , bounds=[-inf, inf]>\n",
      "<Parameter:  'air - sld'  value=       0        (fixed)  , bounds=[-inf, inf]>\n",
      "<Parameter: 'air - isld'  value=       0        (fixed)  , bounds=[-inf, inf]>\n",
      "<Parameter: 'air - rough' value=       0        (fixed)  , bounds=[-inf, inf]>\n",
      "<Parameter:'air - volfrac solvent'value=       0        (fixed)  , bounds=[-inf, inf]>\n",
      "________________________________________________________________________________\n",
      "Parameters:   'd83-lipid'  \n",
      "<Parameter:'d83-lipid - b_heads_real1'value=  0.00157714    (fixed)  , bounds=[-inf, inf]>\n",
      "<Parameter:'d83-lipid - b_heads_imag1'value=       0        (fixed)  , bounds=[-inf, inf]>\n",
      "<Parameter:'d83-lipid - b_heads_real2'value=  0.00089832    (fixed)  , bounds=[-inf, inf]>\n",
      "<Parameter:'d83-lipid - b_heads_imag2'value=       0        (fixed)  , bounds=[-inf, inf]>\n",
      "<Parameter:'d83-lipid - b_tails_real'value=  0.00693226    (fixed)  , bounds=[-inf, inf]>\n",
      "<Parameter:'d83-lipid - b_tails_imag'value=       0        (fixed)  , bounds=[-inf, inf]>\n",
      "<Parameter:'d83-lipid - thick_heads1'value=    381.522              , bounds=[-inf, inf], constraint=<Parameter:'d13-lipid - thick_heads1'value=    381.522              , bounds=[-inf, inf], constraint=<Parameter:     None      value=    381.522     (fixed)  , bounds=None>>>\n",
      "<Parameter:'d83-lipid - thick_heads2'value=    8.30456              , bounds=[-inf, inf], constraint=<Parameter:'d13-lipid - thick_heads2'value=    8.30456              , bounds=[-inf, inf], constraint=<Parameter:     None      value=    8.30456     (fixed)  , bounds=None>>>\n",
      "<Parameter:'d83-lipid - tail_length'value=    23.045               , bounds=[-inf, inf], constraint=<Parameter:'d13-lipid - tail_length'value=    23.045      (fixed)  , bounds=[-inf, inf]>>\n",
      "<Parameter:'d83-lipid - chain_tilt'value=   0.837634              , bounds=[-inf, inf], constraint=<Parameter:'d13-lipid - chain_tilt'value=   0.837634     +/- 0.0229, bounds=[0.01, 0.99]>>\n",
      "<Parameter:'d83-lipid - tail_molecular_volume'value=    895.672              , bounds=[-inf, inf], constraint=<Parameter:'d13-lipid - tail_molecular_volume'value=    895.672              , bounds=[-inf, inf], constraint=<Parameter:     None      value=    895.672     (fixed)  , bounds=None>>>\n",
      "<Parameter:'d83-lipid - head_molecular_volume1'value=    246.12               , bounds=[-inf, inf], constraint=<Parameter:'d13-lipid - head_molecular_volume1'value=    246.12       +/- 37  , bounds=[50, 300]>>\n",
      "<Parameter:'d83-lipid - head_molecular_volume2'value=    264.018              , bounds=[-inf, inf], constraint=<Parameter:'d13-lipid - head_molecular_volume2'value=    264.018     +/- 12.6 , bounds=[50, 300]>>\n",
      "<Parameter:'d83-lipid - rough_head_tail'value=    4.48138              , bounds=[-inf, inf], constraint=<Parameter:'d13-lipid - rough_head_tail'value=    4.48138     +/- 0.355, bounds=[2.0, 5]>>\n",
      "<Parameter:'d83-lipid - rough_preceding_mono'value=    4.48138              , bounds=[-inf, inf], constraint=<Parameter:'d13-lipid - rough_preceding_mono'value=    4.48138              , bounds=[-inf, inf], constraint=<Parameter:'d13-lipid - rough_head_tail'value=    4.48138     +/- 0.355, bounds=[2.0, 5]>>>\n",
      "<Parameter:'d83-lipid - phit'value=       0                 , bounds=[-inf, inf], constraint=<Parameter:'d13-lipid - phit'value=       0        (fixed)  , bounds=[-inf, inf]>>\n",
      "<Parameter:'d83-lipid - phih1'value=   0.986097              , bounds=[-inf, inf], constraint=<Parameter:'d13-lipid - phih1'value=   0.986097     +/- 0.00208, bounds=[0.5, 0.999]>>\n",
      "<Parameter:'d83-lipid - phih2'value=    0.31483              , bounds=[-inf, inf], constraint=<Parameter:'d13-lipid - phih2'value=    0.31483     +/- 0.0845, bounds=[0.1, 0.999]>>\n",
      "________________________________________________________________________________\n",
      "Parameters:     'acmw'     \n",
      "<Parameter:'acmw - thick' value=       0        (fixed)  , bounds=[-inf, inf]>\n",
      "<Parameter: 'acmw - sld'  value=       0        (fixed)  , bounds=[-inf, inf]>\n",
      "<Parameter: 'acmw - isld' value=       0        (fixed)  , bounds=[-inf, inf]>\n",
      "<Parameter:'acmw - rough' value=    4.48138              , bounds=[-inf, inf], constraint=<Parameter:'acmw - rough' value=    4.48138              , bounds=[-inf, inf], constraint=<Parameter:'d13-lipid - rough_head_tail'value=    4.48138     +/- 0.355, bounds=[2.0, 5]>>>\n",
      "<Parameter:'acmw - volfrac solvent'value=       0        (fixed)  , bounds=[-inf, inf]>\n",
      "\n",
      "\n",
      "________________________________________________________________________________\n",
      "Objective - 140395264822016\n",
      "Dataset = d13d2o30\n",
      "datapoints = 51\n",
      "chi2 = 340.5751017324317\n",
      "Weighted = True\n",
      "Transform = <refnx.analysis.objective.Transform object at 0x7fb051e34b38>\n",
      "________________________________________________________________________________\n",
      "Parameters:       ''       \n",
      "________________________________________________________________________________\n",
      "Parameters: 'instrument parameters'\n",
      "<Parameter:    'scale'    value=   0.242644     +/- 0.00186, bounds=[0.005, 10]>\n",
      "<Parameter:     'bkg'     value=  6.5552e-07    (fixed)  , bounds=[-inf, inf]>\n",
      "<Parameter:'dq - resolution'value=       5        (fixed)  , bounds=[-inf, inf]>\n",
      "________________________________________________________________________________\n",
      "Parameters: 'Structure - ' \n",
      "________________________________________________________________________________\n",
      "Parameters:      'air'     \n",
      "<Parameter: 'air - thick' value=       0        (fixed)  , bounds=[-inf, inf]>\n",
      "<Parameter:  'air - sld'  value=       0        (fixed)  , bounds=[-inf, inf]>\n",
      "<Parameter: 'air - isld'  value=       0        (fixed)  , bounds=[-inf, inf]>\n",
      "<Parameter: 'air - rough' value=       0        (fixed)  , bounds=[-inf, inf]>\n",
      "<Parameter:'air - volfrac solvent'value=       0        (fixed)  , bounds=[-inf, inf]>\n",
      "________________________________________________________________________________\n",
      "Parameters:   'd13-lipid'  \n",
      "<Parameter:'d13-lipid - b_heads_real1'value=  0.00157714    (fixed)  , bounds=[-inf, inf]>\n",
      "<Parameter:'d13-lipid - b_heads_imag1'value=       0        (fixed)  , bounds=[-inf, inf]>\n",
      "<Parameter:'d13-lipid - b_heads_real2'value=  0.000377575   (fixed)  , bounds=[-inf, inf]>\n",
      "<Parameter:'d13-lipid - b_heads_imag2'value=       0        (fixed)  , bounds=[-inf, inf]>\n",
      "<Parameter:'d13-lipid - b_tails_real'value= -0.000358174   (fixed)  , bounds=[-inf, inf]>\n",
      "<Parameter:'d13-lipid - b_tails_imag'value=       0        (fixed)  , bounds=[-inf, inf]>\n",
      "<Parameter:'d13-lipid - thick_heads1'value=    381.522              , bounds=[-inf, inf], constraint=<Parameter:     None      value=    381.522     (fixed)  , bounds=None>>\n",
      "<Parameter:'d13-lipid - thick_heads2'value=    8.30456              , bounds=[-inf, inf], constraint=<Parameter:     None      value=    8.30456     (fixed)  , bounds=None>>\n",
      "<Parameter:'d13-lipid - tail_length'value=    23.045      (fixed)  , bounds=[-inf, inf]>\n",
      "<Parameter:'d13-lipid - chain_tilt'value=   0.837634     +/- 0.0229, bounds=[0.01, 0.99]>\n",
      "<Parameter:'d13-lipid - tail_molecular_volume'value=    895.672              , bounds=[-inf, inf], constraint=<Parameter:     None      value=    895.672     (fixed)  , bounds=None>>\n",
      "<Parameter:'d13-lipid - head_molecular_volume1'value=    246.12       +/- 37  , bounds=[50, 300]>\n",
      "<Parameter:'d13-lipid - head_molecular_volume2'value=    264.018     +/- 12.6 , bounds=[50, 300]>\n",
      "<Parameter:'d13-lipid - rough_head_tail'value=    4.48138     +/- 0.355, bounds=[2.0, 5]>\n",
      "<Parameter:'d13-lipid - rough_preceding_mono'value=    4.48138              , bounds=[-inf, inf], constraint=<Parameter:'d13-lipid - rough_head_tail'value=    4.48138     +/- 0.355, bounds=[2.0, 5]>>\n",
      "<Parameter:'d13-lipid - phit'value=       0        (fixed)  , bounds=[-inf, inf]>\n",
      "<Parameter:'d13-lipid - phih1'value=   0.986097     +/- 0.00208, bounds=[0.5, 0.999]>\n",
      "<Parameter:'d13-lipid - phih2'value=    0.31483     +/- 0.0845, bounds=[0.1, 0.999]>\n",
      "________________________________________________________________________________\n",
      "Parameters:      'd2o'     \n",
      "<Parameter: 'd2o - thick' value=       0        (fixed)  , bounds=[-inf, inf]>\n",
      "<Parameter:  'd2o - sld'  value=     6.35       (fixed)  , bounds=[-inf, inf]>\n",
      "<Parameter: 'd2o - isld'  value=       0        (fixed)  , bounds=[-inf, inf]>\n",
      "<Parameter: 'd2o - rough' value=    4.48138              , bounds=[-inf, inf], constraint=<Parameter:'acmw - rough' value=    4.48138              , bounds=[-inf, inf], constraint=<Parameter:'d13-lipid - rough_head_tail'value=    4.48138     +/- 0.355, bounds=[2.0, 5]>>>\n",
      "<Parameter:'d2o - volfrac solvent'value=       0        (fixed)  , bounds=[-inf, inf]>\n",
      "\n",
      "\n",
      "________________________________________________________________________________\n",
      "Objective - 140395264821736\n",
      "Dataset = d70d2o30\n",
      "datapoints = 51\n",
      "chi2 = 1826.2527627951063\n",
      "Weighted = True\n",
      "Transform = <refnx.analysis.objective.Transform object at 0x7fb051e34a58>\n",
      "________________________________________________________________________________\n",
      "Parameters:       ''       \n",
      "________________________________________________________________________________\n",
      "Parameters: 'instrument parameters'\n",
      "<Parameter:    'scale'    value=   0.170639     +/- 0.00278, bounds=[0.005, 10]>\n",
      "<Parameter:     'bkg'     value=  5.6129e-07    (fixed)  , bounds=[-inf, inf]>\n",
      "<Parameter:'dq - resolution'value=       5        (fixed)  , bounds=[-inf, inf]>\n",
      "________________________________________________________________________________\n",
      "Parameters: 'Structure - ' \n",
      "________________________________________________________________________________\n",
      "Parameters:      'air'     \n",
      "<Parameter: 'air - thick' value=       0        (fixed)  , bounds=[-inf, inf]>\n",
      "<Parameter:  'air - sld'  value=       0        (fixed)  , bounds=[-inf, inf]>\n",
      "<Parameter: 'air - isld'  value=       0        (fixed)  , bounds=[-inf, inf]>\n",
      "<Parameter: 'air - rough' value=       0        (fixed)  , bounds=[-inf, inf]>\n",
      "<Parameter:'air - volfrac solvent'value=       0        (fixed)  , bounds=[-inf, inf]>\n",
      "________________________________________________________________________________\n",
      "Parameters:   'd70-lipid'  \n",
      "<Parameter:'d70-lipid - b_heads_real1'value=  0.000223203   (fixed)  , bounds=[-inf, inf]>\n",
      "<Parameter:'d70-lipid - b_heads_imag1'value=       0        (fixed)  , bounds=[-inf, inf]>\n",
      "<Parameter:'d70-lipid - b_heads_real2'value=  0.00089832    (fixed)  , bounds=[-inf, inf]>\n",
      "<Parameter:'d70-lipid - b_heads_imag2'value=       0        (fixed)  , bounds=[-inf, inf]>\n",
      "<Parameter:'d70-lipid - b_tails_real'value=  0.00693226    (fixed)  , bounds=[-inf, inf]>\n",
      "<Parameter:'d70-lipid - b_tails_imag'value=       0        (fixed)  , bounds=[-inf, inf]>\n",
      "<Parameter:'d70-lipid - thick_heads1'value=    381.522              , bounds=[-inf, inf], constraint=<Parameter:'d13-lipid - thick_heads1'value=    381.522              , bounds=[-inf, inf], constraint=<Parameter:     None      value=    381.522     (fixed)  , bounds=None>>>\n",
      "<Parameter:'d70-lipid - thick_heads2'value=    8.30456              , bounds=[-inf, inf], constraint=<Parameter:'d13-lipid - thick_heads2'value=    8.30456              , bounds=[-inf, inf], constraint=<Parameter:     None      value=    8.30456     (fixed)  , bounds=None>>>\n",
      "<Parameter:'d70-lipid - tail_length'value=    23.045               , bounds=[-inf, inf], constraint=<Parameter:'d13-lipid - tail_length'value=    23.045      (fixed)  , bounds=[-inf, inf]>>\n",
      "<Parameter:'d70-lipid - chain_tilt'value=   0.837634              , bounds=[-inf, inf], constraint=<Parameter:'d13-lipid - chain_tilt'value=   0.837634     +/- 0.0229, bounds=[0.01, 0.99]>>\n",
      "<Parameter:'d70-lipid - tail_molecular_volume'value=    895.672              , bounds=[-inf, inf], constraint=<Parameter:'d13-lipid - tail_molecular_volume'value=    895.672              , bounds=[-inf, inf], constraint=<Parameter:     None      value=    895.672     (fixed)  , bounds=None>>>\n",
      "<Parameter:'d70-lipid - head_molecular_volume1'value=    246.12               , bounds=[-inf, inf], constraint=<Parameter:'d13-lipid - head_molecular_volume1'value=    246.12       +/- 37  , bounds=[50, 300]>>\n",
      "<Parameter:'d70-lipid - head_molecular_volume2'value=    264.018              , bounds=[-inf, inf], constraint=<Parameter:'d13-lipid - head_molecular_volume2'value=    264.018     +/- 12.6 , bounds=[50, 300]>>\n",
      "<Parameter:'d70-lipid - rough_head_tail'value=    4.48138              , bounds=[-inf, inf], constraint=<Parameter:'d13-lipid - rough_head_tail'value=    4.48138     +/- 0.355, bounds=[2.0, 5]>>\n",
      "<Parameter:'d70-lipid - rough_preceding_mono'value=    4.48138              , bounds=[-inf, inf], constraint=<Parameter:'d13-lipid - rough_preceding_mono'value=    4.48138              , bounds=[-inf, inf], constraint=<Parameter:'d13-lipid - rough_head_tail'value=    4.48138     +/- 0.355, bounds=[2.0, 5]>>>\n",
      "<Parameter:'d70-lipid - phit'value=       0                 , bounds=[-inf, inf], constraint=<Parameter:'d13-lipid - phit'value=       0        (fixed)  , bounds=[-inf, inf]>>\n",
      "<Parameter:'d70-lipid - phih1'value=   0.986097              , bounds=[-inf, inf], constraint=<Parameter:'d13-lipid - phih1'value=   0.986097     +/- 0.00208, bounds=[0.5, 0.999]>>\n",
      "<Parameter:'d70-lipid - phih2'value=    0.31483              , bounds=[-inf, inf], constraint=<Parameter:'d13-lipid - phih2'value=    0.31483     +/- 0.0845, bounds=[0.1, 0.999]>>\n",
      "________________________________________________________________________________\n",
      "Parameters:      'd2o'     \n",
      "<Parameter: 'd2o - thick' value=       0        (fixed)  , bounds=[-inf, inf]>\n",
      "<Parameter:  'd2o - sld'  value=     6.35       (fixed)  , bounds=[-inf, inf]>\n",
      "<Parameter: 'd2o - isld'  value=       0        (fixed)  , bounds=[-inf, inf]>\n",
      "<Parameter: 'd2o - rough' value=    4.48138              , bounds=[-inf, inf], constraint=<Parameter:'acmw - rough' value=    4.48138              , bounds=[-inf, inf], constraint=<Parameter:'d13-lipid - rough_head_tail'value=    4.48138     +/- 0.355, bounds=[2.0, 5]>>>\n",
      "<Parameter:'d2o - volfrac solvent'value=       0        (fixed)  , bounds=[-inf, inf]>\n",
      "\n",
      "\n",
      "________________________________________________________________________________\n",
      "Objective - 140395264822408\n",
      "Dataset = d83d2o30\n",
      "datapoints = 51\n",
      "chi2 = 652.0002718924394\n",
      "Weighted = True\n",
      "Transform = <refnx.analysis.objective.Transform object at 0x7fb051e34d30>\n",
      "________________________________________________________________________________\n",
      "Parameters:       ''       \n",
      "________________________________________________________________________________\n",
      "Parameters: 'instrument parameters'\n",
      "<Parameter:    'scale'    value=   0.247414     +/- 0.00384, bounds=[0.005, 10]>\n",
      "<Parameter:     'bkg'     value=  4.2082e-07    (fixed)  , bounds=[-inf, inf]>\n",
      "<Parameter:'dq - resolution'value=       5        (fixed)  , bounds=[-inf, inf]>\n",
      "________________________________________________________________________________\n",
      "Parameters: 'Structure - ' \n",
      "________________________________________________________________________________\n",
      "Parameters:      'air'     \n",
      "<Parameter: 'air - thick' value=       0        (fixed)  , bounds=[-inf, inf]>\n",
      "<Parameter:  'air - sld'  value=       0        (fixed)  , bounds=[-inf, inf]>\n",
      "<Parameter: 'air - isld'  value=       0        (fixed)  , bounds=[-inf, inf]>\n",
      "<Parameter: 'air - rough' value=       0        (fixed)  , bounds=[-inf, inf]>\n",
      "<Parameter:'air - volfrac solvent'value=       0        (fixed)  , bounds=[-inf, inf]>\n",
      "________________________________________________________________________________\n",
      "Parameters:   'd83-lipid'  \n",
      "<Parameter:'d83-lipid - b_heads_real1'value=  0.00157714    (fixed)  , bounds=[-inf, inf]>\n",
      "<Parameter:'d83-lipid - b_heads_imag1'value=       0        (fixed)  , bounds=[-inf, inf]>\n",
      "<Parameter:'d83-lipid - b_heads_real2'value=  0.00089832    (fixed)  , bounds=[-inf, inf]>\n",
      "<Parameter:'d83-lipid - b_heads_imag2'value=       0        (fixed)  , bounds=[-inf, inf]>\n",
      "<Parameter:'d83-lipid - b_tails_real'value=  0.00693226    (fixed)  , bounds=[-inf, inf]>\n",
      "<Parameter:'d83-lipid - b_tails_imag'value=       0        (fixed)  , bounds=[-inf, inf]>\n",
      "<Parameter:'d83-lipid - thick_heads1'value=    381.522              , bounds=[-inf, inf], constraint=<Parameter:'d13-lipid - thick_heads1'value=    381.522              , bounds=[-inf, inf], constraint=<Parameter:     None      value=    381.522     (fixed)  , bounds=None>>>\n",
      "<Parameter:'d83-lipid - thick_heads2'value=    8.30456              , bounds=[-inf, inf], constraint=<Parameter:'d13-lipid - thick_heads2'value=    8.30456              , bounds=[-inf, inf], constraint=<Parameter:     None      value=    8.30456     (fixed)  , bounds=None>>>\n",
      "<Parameter:'d83-lipid - tail_length'value=    23.045               , bounds=[-inf, inf], constraint=<Parameter:'d13-lipid - tail_length'value=    23.045      (fixed)  , bounds=[-inf, inf]>>\n",
      "<Parameter:'d83-lipid - chain_tilt'value=   0.837634              , bounds=[-inf, inf], constraint=<Parameter:'d13-lipid - chain_tilt'value=   0.837634     +/- 0.0229, bounds=[0.01, 0.99]>>\n",
      "<Parameter:'d83-lipid - tail_molecular_volume'value=    895.672              , bounds=[-inf, inf], constraint=<Parameter:'d13-lipid - tail_molecular_volume'value=    895.672              , bounds=[-inf, inf], constraint=<Parameter:     None      value=    895.672     (fixed)  , bounds=None>>>\n",
      "<Parameter:'d83-lipid - head_molecular_volume1'value=    246.12               , bounds=[-inf, inf], constraint=<Parameter:'d13-lipid - head_molecular_volume1'value=    246.12       +/- 37  , bounds=[50, 300]>>\n",
      "<Parameter:'d83-lipid - head_molecular_volume2'value=    264.018              , bounds=[-inf, inf], constraint=<Parameter:'d13-lipid - head_molecular_volume2'value=    264.018     +/- 12.6 , bounds=[50, 300]>>\n",
      "<Parameter:'d83-lipid - rough_head_tail'value=    4.48138              , bounds=[-inf, inf], constraint=<Parameter:'d13-lipid - rough_head_tail'value=    4.48138     +/- 0.355, bounds=[2.0, 5]>>\n",
      "<Parameter:'d83-lipid - rough_preceding_mono'value=    4.48138              , bounds=[-inf, inf], constraint=<Parameter:'d13-lipid - rough_preceding_mono'value=    4.48138              , bounds=[-inf, inf], constraint=<Parameter:'d13-lipid - rough_head_tail'value=    4.48138     +/- 0.355, bounds=[2.0, 5]>>>\n",
      "<Parameter:'d83-lipid - phit'value=       0                 , bounds=[-inf, inf], constraint=<Parameter:'d13-lipid - phit'value=       0        (fixed)  , bounds=[-inf, inf]>>\n",
      "<Parameter:'d83-lipid - phih1'value=   0.986097              , bounds=[-inf, inf], constraint=<Parameter:'d13-lipid - phih1'value=   0.986097     +/- 0.00208, bounds=[0.5, 0.999]>>\n",
      "<Parameter:'d83-lipid - phih2'value=    0.31483              , bounds=[-inf, inf], constraint=<Parameter:'d13-lipid - phih2'value=    0.31483     +/- 0.0845, bounds=[0.1, 0.999]>>\n",
      "________________________________________________________________________________\n",
      "Parameters:      'd2o'     \n",
      "<Parameter: 'd2o - thick' value=       0        (fixed)  , bounds=[-inf, inf]>\n",
      "<Parameter:  'd2o - sld'  value=     6.35       (fixed)  , bounds=[-inf, inf]>\n",
      "<Parameter: 'd2o - isld'  value=       0        (fixed)  , bounds=[-inf, inf]>\n",
      "<Parameter: 'd2o - rough' value=    4.48138              , bounds=[-inf, inf], constraint=<Parameter:'acmw - rough' value=    4.48138              , bounds=[-inf, inf], constraint=<Parameter:'d13-lipid - rough_head_tail'value=    4.48138     +/- 0.355, bounds=[2.0, 5]>>>\n",
      "<Parameter:'d2o - volfrac solvent'value=       0        (fixed)  , bounds=[-inf, inf]>\n",
      "\n",
      "\n",
      "________________________________________________________________________________\n",
      "Objective - 140395264821456\n",
      "Dataset = hd2o30\n",
      "datapoints = 51\n",
      "chi2 = 107.74872942064275\n",
      "Weighted = True\n",
      "Transform = <refnx.analysis.objective.Transform object at 0x7fb051e34cf8>\n",
      "________________________________________________________________________________\n",
      "Parameters:       ''       \n",
      "________________________________________________________________________________\n",
      "Parameters: 'instrument parameters'\n",
      "<Parameter:    'scale'    value=   0.209013     +/- 0.00176, bounds=[0.005, 10]>\n",
      "<Parameter:     'bkg'     value=  7.0584e-07    (fixed)  , bounds=[-inf, inf]>\n",
      "<Parameter:'dq - resolution'value=       5        (fixed)  , bounds=[-inf, inf]>\n",
      "________________________________________________________________________________\n",
      "Parameters: 'Structure - ' \n",
      "________________________________________________________________________________\n",
      "Parameters:      'air'     \n",
      "<Parameter: 'air - thick' value=       0        (fixed)  , bounds=[-inf, inf]>\n",
      "<Parameter:  'air - sld'  value=       0        (fixed)  , bounds=[-inf, inf]>\n",
      "<Parameter: 'air - isld'  value=       0        (fixed)  , bounds=[-inf, inf]>\n",
      "<Parameter: 'air - rough' value=       0        (fixed)  , bounds=[-inf, inf]>\n",
      "<Parameter:'air - volfrac solvent'value=       0        (fixed)  , bounds=[-inf, inf]>\n",
      "________________________________________________________________________________\n",
      "Parameters:    'h-lipid'   \n",
      "<Parameter:'h-lipid - b_heads_real1'value=  0.000223203   (fixed)  , bounds=[-inf, inf]>\n",
      "<Parameter:'h-lipid - b_heads_imag1'value=       0        (fixed)  , bounds=[-inf, inf]>\n",
      "<Parameter:'h-lipid - b_heads_real2'value=  0.000377575   (fixed)  , bounds=[-inf, inf]>\n",
      "<Parameter:'h-lipid - b_heads_imag2'value=       0        (fixed)  , bounds=[-inf, inf]>\n",
      "<Parameter:'h-lipid - b_tails_real'value= -0.000358174   (fixed)  , bounds=[-inf, inf]>\n",
      "<Parameter:'h-lipid - b_tails_imag'value=       0        (fixed)  , bounds=[-inf, inf]>\n",
      "<Parameter:'h-lipid - thick_heads1'value=    381.522              , bounds=[-inf, inf], constraint=<Parameter:'d13-lipid - thick_heads1'value=    381.522              , bounds=[-inf, inf], constraint=<Parameter:     None      value=    381.522     (fixed)  , bounds=None>>>\n",
      "<Parameter:'h-lipid - thick_heads2'value=    8.30456              , bounds=[-inf, inf], constraint=<Parameter:'d13-lipid - thick_heads2'value=    8.30456              , bounds=[-inf, inf], constraint=<Parameter:     None      value=    8.30456     (fixed)  , bounds=None>>>\n",
      "<Parameter:'h-lipid - tail_length'value=    23.045               , bounds=[-inf, inf], constraint=<Parameter:'d13-lipid - tail_length'value=    23.045      (fixed)  , bounds=[-inf, inf]>>\n",
      "<Parameter:'h-lipid - chain_tilt'value=   0.837634              , bounds=[-inf, inf], constraint=<Parameter:'d13-lipid - chain_tilt'value=   0.837634     +/- 0.0229, bounds=[0.01, 0.99]>>\n",
      "<Parameter:'h-lipid - tail_molecular_volume'value=    895.672              , bounds=[-inf, inf], constraint=<Parameter:'d13-lipid - tail_molecular_volume'value=    895.672              , bounds=[-inf, inf], constraint=<Parameter:     None      value=    895.672     (fixed)  , bounds=None>>>\n",
      "<Parameter:'h-lipid - head_molecular_volume1'value=    246.12               , bounds=[-inf, inf], constraint=<Parameter:'d13-lipid - head_molecular_volume1'value=    246.12       +/- 37  , bounds=[50, 300]>>\n",
      "<Parameter:'h-lipid - head_molecular_volume2'value=    264.018              , bounds=[-inf, inf], constraint=<Parameter:'d13-lipid - head_molecular_volume2'value=    264.018     +/- 12.6 , bounds=[50, 300]>>\n",
      "<Parameter:'h-lipid - rough_head_tail'value=    4.48138              , bounds=[-inf, inf], constraint=<Parameter:'d13-lipid - rough_head_tail'value=    4.48138     +/- 0.355, bounds=[2.0, 5]>>\n",
      "<Parameter:'h-lipid - rough_preceding_mono'value=    4.48138              , bounds=[-inf, inf], constraint=<Parameter:'d13-lipid - rough_preceding_mono'value=    4.48138              , bounds=[-inf, inf], constraint=<Parameter:'d13-lipid - rough_head_tail'value=    4.48138     +/- 0.355, bounds=[2.0, 5]>>>\n",
      "<Parameter:'h-lipid - phit'value=       0                 , bounds=[-inf, inf], constraint=<Parameter:'d13-lipid - phit'value=       0        (fixed)  , bounds=[-inf, inf]>>\n",
      "<Parameter:'h-lipid - phih1'value=   0.986097              , bounds=[-inf, inf], constraint=<Parameter:'d13-lipid - phih1'value=   0.986097     +/- 0.00208, bounds=[0.5, 0.999]>>\n",
      "<Parameter:'h-lipid - phih2'value=    0.31483              , bounds=[-inf, inf], constraint=<Parameter:'d13-lipid - phih2'value=    0.31483     +/- 0.0845, bounds=[0.1, 0.999]>>\n",
      "________________________________________________________________________________\n",
      "Parameters:      'd2o'     \n",
      "<Parameter: 'd2o - thick' value=       0        (fixed)  , bounds=[-inf, inf]>\n",
      "<Parameter:  'd2o - sld'  value=     6.35       (fixed)  , bounds=[-inf, inf]>\n",
      "<Parameter: 'd2o - isld'  value=       0        (fixed)  , bounds=[-inf, inf]>\n",
      "<Parameter: 'd2o - rough' value=    4.48138              , bounds=[-inf, inf], constraint=<Parameter:'acmw - rough' value=    4.48138              , bounds=[-inf, inf], constraint=<Parameter:'d13-lipid - rough_head_tail'value=    4.48138     +/- 0.355, bounds=[2.0, 5]>>>\n",
      "<Parameter:'d2o - volfrac solvent'value=       0        (fixed)  , bounds=[-inf, inf]>\n",
      "\n",
      "\n"
     ]
    }
   ],
   "source": [
    "print(global_objective)"
   ]
  },
  {
   "cell_type": "code",
   "execution_count": 18,
   "metadata": {
    "scrolled": false
   },
   "outputs": [
    {
     "name": "stdout",
     "output_type": "stream",
     "text": [
      "567.5402594168685\n"
     ]
    },
    {
     "data": {
      "image/png": "[encoded data removed]",
      "text/plain": [
       "<Figure size 432x288 with 1 Axes>"
      ]
     },
     "metadata": {
      "needs_background": "light"
     },
     "output_type": "display_data"
    },
    {
     "name": "stdout",
     "output_type": "stream",
     "text": [
      "408.99118055962765\n"
     ]
    },
    {
     "data": {
      "image/png": "[encoded data removed]",
      "text/plain": [
       "<Figure size 432x288 with 1 Axes>"
      ]
     },
     "metadata": {
      "needs_background": "light"
     },
     "output_type": "display_data"
    },
    {
     "name": "stdout",
     "output_type": "stream",
     "text": [
      "417.0778414630202\n"
     ]
    },
    {
     "data": {
      "image/png": "[encoded data removed]",
      "text/plain": [
       "<Figure size 432x288 with 1 Axes>"
      ]
     },
     "metadata": {
      "needs_background": "light"
     },
     "output_type": "display_data"
    },
    {
     "name": "stdout",
     "output_type": "stream",
     "text": [
      "340.5751017324317\n"
     ]
    },
    {
     "data": {
      "image/png": "[encoded data removed]",
      "text/plain": [
       "<Figure size 432x288 with 1 Axes>"
      ]
     },
     "metadata": {
      "needs_background": "light"
     },
     "output_type": "display_data"
    },
    {
     "name": "stdout",
     "output_type": "stream",
     "text": [
      "1826.2527627951063\n"
     ]
    },
    {
     "data": {
      "image/png": "[encoded data removed]",
      "text/plain": [
       "<Figure size 432x288 with 1 Axes>"
      ]
     },
     "metadata": {
      "needs_background": "light"
     },
     "output_type": "display_data"
    },
    {
     "name": "stdout",
     "output_type": "stream",
     "text": [
      "652.0002718924394\n"
     ]
    },
    {
     "data": {
      "image/png": "[encoded data removed]",
      "text/plain": [
       "<Figure size 432x288 with 1 Axes>"
      ]
     },
     "metadata": {
      "needs_background": "light"
     },
     "output_type": "display_data"
    },
    {
     "name": "stdout",
     "output_type": "stream",
     "text": [
      "107.74872942064275\n"
     ]
    },
    {
     "data": {
      "image/png": "[encoded data removed]",
      "text/plain": [
       "<Figure size 432x288 with 1 Axes>"
      ]
     },
     "metadata": {
      "needs_background": "light"
     },
     "output_type": "display_data"
    },
    {
     "name": "stdout",
     "output_type": "stream",
     "text": [
      "617.169449611448 518.9202316506411\n"
     ]
    }
   ],
   "source": [
    "import matplotlib.pyplot as plt\n",
    "\n",
    "tot = []\n",
    "for i in global_objective.objectives:\n",
    "    print(i.chisqr())\n",
    "    i.plot()\n",
    "    plt.yscale('log')\n",
    "    tot.append(i.chisqr())\n",
    "    plt.show()\n",
    "print(np.array(tot).mean(), np.array(tot).std())"
   ]
  },
  {
   "cell_type": "code",
   "execution_count": 19,
   "metadata": {
    "scrolled": false
   },
   "outputs": [
    {
     "data": {
      "image/png": "[encoded data removed]",
      "text/plain": [
       "<Figure size 432x288 with 1 Axes>"
      ]
     },
     "metadata": {
      "needs_background": "light"
     },
     "output_type": "display_data"
    },
    {
     "data": {
      "image/png": "[encoded data removed]",
      "text/plain": [
       "<Figure size 432x288 with 1 Axes>"
      ]
     },
     "metadata": {
      "needs_background": "light"
     },
     "output_type": "display_data"
    },
    {
     "data": {
      "image/png": "[encoded data removed]",
      "text/plain": [
       "<Figure size 432x288 with 1 Axes>"
      ]
     },
     "metadata": {
      "needs_background": "light"
     },
     "output_type": "display_data"
    },
    {
     "data": {
      "image/png": "[encoded data removed]",
      "text/plain": [
       "<Figure size 432x288 with 1 Axes>"
      ]
     },
     "metadata": {
      "needs_background": "light"
     },
     "output_type": "display_data"
    },
    {
     "data": {
      "image/png": "[encoded data removed]",
      "text/plain": [
       "<Figure size 432x288 with 1 Axes>"
      ]
     },
     "metadata": {
      "needs_background": "light"
     },
     "output_type": "display_data"
    },
    {
     "data": {
      "image/png": "[encoded data removed]",
      "text/plain": [
       "<Figure size 432x288 with 1 Axes>"
      ]
     },
     "metadata": {
      "needs_background": "light"
     },
     "output_type": "display_data"
    },
    {
     "data": {
      "image/png": "[encoded data removed]",
      "text/plain": [
       "<Figure size 432x288 with 1 Axes>"
      ]
     },
     "metadata": {
      "needs_background": "light"
     },
     "output_type": "display_data"
    }
   ],
   "source": [
    "for i in structures:\n",
    "    plt.plot(i.sld_profile()[0], i.sld_profile()[1])\n",
    "    plt.show()"
   ]
  },
  {
   "cell_type": "code",
   "execution_count": null,
   "metadata": {},
   "outputs": [],
   "source": [
    "m = 200\n",
    "n = 1000\n",
    "\n",
    "fitter.sample(m, random_state=1)\n",
    "fitter.sampler.reset()\n",
    "res = fitter.sample(n, nthin=1, random_state=1)\n",
    "flatchain = fitter.sampler.flatchain"
   ]
  },
  {
   "cell_type": "code",
   "execution_count": null,
   "metadata": {
    "scrolled": false
   },
   "outputs": [],
   "source": [
    "print(global_objective)"
   ]
  },
  {
   "cell_type": "code",
   "execution_count": null,
   "metadata": {},
   "outputs": [],
   "source": [
    "def wph(phih, vh):\n",
    "    return phih * vh / (29.9 - 29.9 * phih)"
   ]
  },
  {
   "cell_type": "code",
   "execution_count": null,
   "metadata": {},
   "outputs": [],
   "source": [
    "copychain = np.array(flatchain)"
   ]
  },
  {
   "cell_type": "code",
   "execution_count": null,
   "metadata": {},
   "outputs": [],
   "source": [
    "labels = ['scale1', 'vh1', 'phi2', 'scale2', 'scale3', \n",
    "          'scale4', 'scale5', 'scale6', 'scale7']\n",
    "for k, label in enumerate(labels):\n",
    "    file_out = open('../../output/traditional/{}_{}_mod.txt'.format(label, surface_pressure), 'w')\n",
    "    a = mquantiles(copychain[:, k], prob=[0.025, 0.5, 0.975])\n",
    "    k = [a[1], a[1] - a[0], a[2] - a[1]]\n",
    "    q = '{:.2f}'.format(k[0])\n",
    "    e = '{:.2f}'.format(k[1])\n",
    "    w = '{:.2f}'.format(k[2])\n",
    "    file_out.write('$' + str(q) + '^{+' + str(w) + '}_{-' + str(e) + '}$')\n",
    "    file_out.close()"
   ]
  },
  {
   "cell_type": "code",
   "execution_count": null,
   "metadata": {},
   "outputs": [],
   "source": [
    "headvol1 = copychain[:, 1]\n",
    "headvol2 = get_value('vh_{}'.format(surface_pressure), 'traditional') - copychain[:, 1]\n",
    "phih2 = copychain[:, 2]\n",
    "theads2 = (headvol2 * d13.tail_length.value * d13.cos_rad_chain_tilt.value) / (d13.tail_mol_vol.value * (1 - phih2))\n",
    "theads1 = get_value('dh_{}'.format(surface_pressure), 'traditional') - theads2\n",
    "phih1 = 1 - (headvol1 * theads2 * (1 - phih2) / (headvol2 * theads1))\n",
    "labels = ['wph1', 'wph2']\n",
    "phih = np.array([phih1, phih2])\n",
    "hv = np.array([headvol1, headvol2])\n",
    "wphs = wph(phih, hv)"
   ]
  },
  {
   "cell_type": "code",
   "execution_count": null,
   "metadata": {},
   "outputs": [],
   "source": [
    "for k, label in enumerate(labels):\n",
    "    file_out = open('../../output/traditional/{}_{}_mod.txt'.format(label, surface_pressure), 'w')\n",
    "    a = mquantiles(wphs[k, :], prob=[0.025, 0.5, 0.975])\n",
    "    k = [a[1], a[1] - a[0], a[2] - a[1]]\n",
    "    q = '{:.2f}'.format(k[0])\n",
    "    e = '{:.2f}'.format(k[1])\n",
    "    w = '{:.2f}'.format(k[2])\n",
    "    file_out.write('$' + str(q) + '^{+' + str(w) + '}_{-' + str(e) + '}$')\n",
    "    file_out.close()"
   ]
  },
  {
   "cell_type": "code",
   "execution_count": null,
   "metadata": {},
   "outputs": [],
   "source": [
    "contrasts = ['d13acmw', 'd70acmw', 'd83acmw', 'd13d2o', 'd70d2o', 'd83d2o', 'hd2o']\n",
    "for i, a in enumerate(global_objective.objectives):\n",
    "    file_out = open('../../output/traditional/{}_{}_mod_chisq.txt'.format(contrasts[i], surface_pressure), 'w')\n",
    "    file_out.write('${:.2f}$'.format(a.chisqr()))\n",
    "    file_out.close()"
   ]
  },
  {
   "cell_type": "code",
   "execution_count": null,
   "metadata": {},
   "outputs": [],
   "source": [
    "def custom_pgen(objective, ngen):\n",
    "    chains = np.array([np.ravel(param.chain[..., 0::1]) for param\n",
    "                           in objective.varying_parameters()\n",
    "                           if param.chain is not None])\n",
    "\n",
    "    if len(chains) != len(objective.varying_parameters()) or len(chains) == 0:\n",
    "        raise ValueError(\"You need to perform sampling on all the varying\"\n",
    "                         \"parameters first\")\n",
    "\n",
    "    samples = np.arange(np.size(chains, 1))\n",
    "    \n",
    "    np.random.seed(1)\n",
    "\n",
    "    choices = np.random.choice(samples,\n",
    "                               size=(min(ngen, samples.size),),\n",
    "                               replace=False)\n",
    "\n",
    "    for choice in choices:\n",
    "        yield chains[..., choice]"
   ]
  },
  {
   "cell_type": "code",
   "execution_count": null,
   "metadata": {
    "scrolled": false
   },
   "outputs": [],
   "source": [
    "contrasts = ['d13acmw', 'd70acmw', 'd83acmw', 'd13d2o', 'd70d2o', 'd83d2o', 'hd2o']\n",
    "models = [model_d13acmw, model_d70acmw, model_d83acmw, model_d13d2o, model_d70d2o, model_d83d2o, \n",
    "          model_hd2o]\n",
    "datasets = [d13acmw_ds, d70acmw_ds, d83acmw_ds, d13d2o_ds, d70d2o_ds, d83d2o_ds, hd2o_ds]\n",
    "for k, con in enumerate(contrasts):\n",
    "    for obj in global_objective.objectives:\n",
    "        if con in obj.data.name:\n",
    "            ref_out = open('../../output/traditional/{}_{}_mod_ref.txt'.format(con, surface_pressure), 'w')\n",
    "            for i in range(datasets[k].x.size):\n",
    "                ref_out.write('{} {} {} '.format(datasets[k].x[i], datasets[k].y[i]*(datasets[k].x[i])**4, \n",
    "                                                 datasets[k].y_err[i]*(datasets[k].x[i])**4))\n",
    "                choose = custom_pgen(global_objective, 100)\n",
    "                for c in choose:\n",
    "                    global_objective.setp(c)\n",
    "                    ref_out.write('{} '.format(models[k](datasets[k].x[i])*(datasets[k].x[i])**4))\n",
    "                ref_out.write('\\n')\n",
    "            ref_out.close()"
   ]
  },
  {
   "cell_type": "code",
   "execution_count": null,
   "metadata": {},
   "outputs": [],
   "source": [
    "for i, struct in enumerate(structures):\n",
    "    sld_out = open('../../output/traditional/{}_{}_mod_sld.txt'.format(contrasts[i], surface_pressure), 'w')\n",
    "    for j in range(struct.sld_profile()[0].size):\n",
    "        sld_out.write('{} '.format(struct.sld_profile()[0][j]))\n",
    "        choose = custom_pgen(global_objective, 100)\n",
    "        for c in choose:\n",
    "            global_objective.setp(c)\n",
    "            sld_out.write('{} '.format(struct.sld_profile()[1][j]))\n",
    "        sld_out.write('\\n')\n",
    "    sld_out.close()"
   ]
  },
  {
   "cell_type": "code",
   "execution_count": null,
   "metadata": {},
   "outputs": [],
   "source": []
  }
 ],
 "metadata": {
  "kernelspec": {
   "display_name": "Python [conda env:sim_vs_trad]",
   "language": "python",
   "name": "conda-env-sim_vs_trad-py"
  },
  "language_info": {
   "codemirror_mode": {
    "name": "ipython",
    "version": 3
   },
   "file_extension": ".py",
   "mimetype": "text/x-python",
   "name": "python",
   "nbconvert_exporter": "python",
   "pygments_lexer": "ipython3",
   "version": "3.7.1"
  }
 },
 "nbformat": 4,
 "nbformat_minor": 2
}
