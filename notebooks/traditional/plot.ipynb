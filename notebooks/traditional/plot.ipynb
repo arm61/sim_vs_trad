{
 "cells": [
  {
   "cell_type": "code",
   "execution_count": null,
   "metadata": {},
   "outputs": [],
   "source": [
    "import numpy as np\n",
    "import pandas as pd\n",
    "import matplotlib.pyplot as plt\n",
    "import matplotlib as mpl\n",
    "import seaborn as sns\n",
    "sns.set(palette='colorblind')\n",
    "import os.path, sys"
   ]
  },
  {
   "cell_type": "code",
   "execution_count": null,
   "metadata": {},
   "outputs": [],
   "source": [
    "surface_pressure = sys.argv[1]\n",
    "\n",
    "constrasts = ['d13acmw', 'd13d2o', 'hd2o', 'd70acmw', 'd70d2o', 'd83acmw', 'd83d2o']"
   ]
  },
  {
   "cell_type": "code",
   "execution_count": null,
   "metadata": {},
   "outputs": [],
   "source": [
    "mpl.rcParams['xtick.labelsize'] = 8\n",
    "mpl.rcParams['ytick.labelsize'] = 8\n",
    "mpl.rcParams['axes.facecolor'] = 'w'\n",
    "mpl.rcParams['lines.linewidth'] = 2\n",
    "mpl.rcParams['xtick.top'] = False\n",
    "mpl.rcParams['xtick.bottom'] = True\n",
    "mpl.rcParams['ytick.left'] = True\n",
    "mpl.rcParams['grid.linestyle'] = '--'\n",
    "mpl.rcParams['legend.fontsize'] = 8\n",
    "mpl.rcParams['legend.facecolor'] = [1,1,1]\n",
    "mpl.rcParams['legend.framealpha'] = 0.75\n",
    "mpl.rcParams['axes.labelsize'] = 8\n",
    "mpl.rcParams['axes.linewidth'] = 1\n",
    "mpl.rcParams['axes.edgecolor'] = 'k'\n",
    "plt.figure(figsize=(5, 25/6))\n",
    "gs = mpl.gridspec.GridSpec(1, 2, width_ratios=[2, 1])\n",
    "colors = [\"#0173B2\", \"#DE8F05\", \"#029E73\", \"#D55E00\", \"#CC78BC\", \"#CA9161\", \"#FBAFE4\"]\n",
    "markers = ['o', 's', 's', 'o', 's', 'o', 's']\n",
    "ax = plt.subplot(gs[0])\n",
    "for k, b in enumerate(constrasts):\n",
    "    data = np.loadtxt('../../output/traditional/{}_{}_ref.txt'.format(b, surface_pressure), unpack=True)\n",
    "    plt.errorbar(data[0], data[1]*10**k, yerr=data[2]*10**k, marker=markers[k], ls='', zorder=1, \n",
    "                 c=colors[k], markersize=1, elinewidth=1)\n",
    "    to_plot = np.random.randint(3, data.shape[0], size=100)\n",
    "    for j in to_plot:\n",
    "        ax.plot(data[0], data[j]*10**k, c=colors[k], lw=1, ls='-', alpha=0.05)\n",
    "ax.set_yscale('log')\n",
    "ax.set_xlim([0, 0.625])\n",
    "ax.set_ylabel('$Rq^4$/Å$^{4}$')\n",
    "ax.set_xlabel('$q$/Å$^{-1}$')\n",
    "ax.text(0.1, 0.95, '(a)', horizontalalignment='center', verticalalignment='center', transform=ax.transAxes)\n",
    "ax = plt.subplot(gs[1])\n",
    "for k, b in enumerate(constrasts):\n",
    "    data = np.loadtxt('../../output/traditional/{}_{}_sld.txt'.format(b, surface_pressure), unpack=True)\n",
    "    to_plot = np.random.randint(1, data.shape[0], size=100)\n",
    "    for j in to_plot:\n",
    "        x2 = np.linspace(-20, data[0].min(), 100)\n",
    "        x = np.append(x2, data[0])\n",
    "        y2 = np.zeros_like(x2)\n",
    "        y = np.append(y2, data[j])\n",
    "        if x.max() < 70:\n",
    "            x3 = np.linspace(x.max(), 71, 100)\n",
    "            y3 = np.ones_like(x3) * y[-1]\n",
    "            x = np.append(x, x3)\n",
    "            y = np.append(y, y3)\n",
    "        x = x[np.where(x < 70)]\n",
    "        y = y[np.where(x < 70)]\n",
    "        ax.plot(x, y + 10 * k, c=colors[k], lw=2, ls='-', alpha=0.05)\n",
    "ax.set_ylabel(r'SLD/Å$^{-2}$')\n",
    "ax.set_xlabel(r'$z$/Å')\n",
    "ax.set_xlim([-20, 70])\n",
    "plt.tight_layout()\n",
    "plt.savefig('../../reports/figures/trad_{}.pdf'.format(surface_pressure))"
   ]
  },
  {
   "cell_type": "code",
   "execution_count": null,
   "metadata": {},
   "outputs": [],
   "source": []
  }
 ],
 "metadata": {
  "kernelspec": {
   "display_name": "Python [conda env:sim_vs_trad]",
   "language": "python",
   "name": "conda-env-sim_vs_trad-py"
  },
  "language_info": {
   "codemirror_mode": {
    "name": "ipython",
    "version": 3
   },
   "file_extension": ".py",
   "mimetype": "text/x-python",
   "name": "python",
   "nbconvert_exporter": "python",
   "pygments_lexer": "ipython3",
   "version": "3.7.1"
  }
 },
 "nbformat": 4,
 "nbformat_minor": 2
}
